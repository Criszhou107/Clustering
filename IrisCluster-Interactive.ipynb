{
 "cells": [
  {
   "cell_type": "markdown",
   "metadata": {},
   "source": [
    "# Demonstration of k-means and hierarchical clustering\n",
    "Information on the iris data here: https://en.wikipedia.org/wiki/Iris_flower_data_set\n",
    "\n",
    "Information on the sklearn machine learning library here: http://scikit-learn.org/\n",
    "\n",
    "We evaluate the different clustering methods using the adjusted rand index (ARI), a measure between 0 and 1 with 1 denoting a perfect agreement with the true labels. Note that this evaluation is only possible when class labels are known, which is not true in most real-world applications of clustering. See https://scikit-learn.org/stable/modules/clustering.html#clustering-performance-evaluation for a definition of the ARI and other metrics for assessing clustering performance, with and without ground truth labels."
   ]
  },
  {
   "cell_type": "code",
   "execution_count": 21,
   "metadata": {},
   "outputs": [],
   "source": [
    "import matplotlib.pyplot as plt\n",
    "import numpy as np\n",
    "import pandas as pd\n",
    "import visualisation # Python functions from the PCA lab\n",
    "import clustering # Python functions for this lab\n",
    "import plotly\n",
    "import plotly.io as pio\n",
    "import plotly.express as px\n",
    "import plotly.graph_objs as go\n",
    "from sklearn.metrics import adjusted_rand_score"
   ]
  },
  {
   "cell_type": "markdown",
   "metadata": {},
   "source": [
    "### Import Iris dataset from sklearn and put into a pandas DataFrame"
   ]
  },
  {
   "cell_type": "code",
   "execution_count": 22,
   "metadata": {},
   "outputs": [],
   "source": [
    "# get the Iris data from the sklearn package\n",
    "from sklearn import datasets\n",
    "rawdata = datasets.load_iris() \n",
    "labels = np.array(['setosa']*50 + ['versicolor']*50 + ['virginica']*50)\n",
    "data = pd.DataFrame(rawdata.data, columns = ['Sepal length','Sepal width','Petal length','Petal width'], \n",
    "                        index = labels) # this combines the raw data and labels into a Data Frame\n",
    "data.index.name = 'species'"
   ]
  },
  {
   "cell_type": "markdown",
   "metadata": {},
   "source": [
    "###  Data summary: rows are samples, columns are features"
   ]
  },
  {
   "cell_type": "code",
   "execution_count": 23,
   "metadata": {},
   "outputs": [
    {
     "name": "stdout",
     "output_type": "stream",
     "text": [
      "data shape\n",
      " (150, 4)\n"
     ]
    },
    {
     "data": {
      "text/html": [
       "<div>\n",
       "<style scoped>\n",
       "    .dataframe tbody tr th:only-of-type {\n",
       "        vertical-align: middle;\n",
       "    }\n",
       "\n",
       "    .dataframe tbody tr th {\n",
       "        vertical-align: top;\n",
       "    }\n",
       "\n",
       "    .dataframe thead th {\n",
       "        text-align: right;\n",
       "    }\n",
       "</style>\n",
       "<table border=\"1\" class=\"dataframe\">\n",
       "  <thead>\n",
       "    <tr style=\"text-align: right;\">\n",
       "      <th></th>\n",
       "      <th>Sepal length</th>\n",
       "      <th>Sepal width</th>\n",
       "      <th>Petal length</th>\n",
       "      <th>Petal width</th>\n",
       "    </tr>\n",
       "    <tr>\n",
       "      <th>species</th>\n",
       "      <th></th>\n",
       "      <th></th>\n",
       "      <th></th>\n",
       "      <th></th>\n",
       "    </tr>\n",
       "  </thead>\n",
       "  <tbody>\n",
       "    <tr>\n",
       "      <th>setosa</th>\n",
       "      <td>5.1</td>\n",
       "      <td>3.5</td>\n",
       "      <td>1.4</td>\n",
       "      <td>0.2</td>\n",
       "    </tr>\n",
       "    <tr>\n",
       "      <th>setosa</th>\n",
       "      <td>4.9</td>\n",
       "      <td>3.0</td>\n",
       "      <td>1.4</td>\n",
       "      <td>0.2</td>\n",
       "    </tr>\n",
       "    <tr>\n",
       "      <th>setosa</th>\n",
       "      <td>4.7</td>\n",
       "      <td>3.2</td>\n",
       "      <td>1.3</td>\n",
       "      <td>0.2</td>\n",
       "    </tr>\n",
       "    <tr>\n",
       "      <th>setosa</th>\n",
       "      <td>4.6</td>\n",
       "      <td>3.1</td>\n",
       "      <td>1.5</td>\n",
       "      <td>0.2</td>\n",
       "    </tr>\n",
       "    <tr>\n",
       "      <th>setosa</th>\n",
       "      <td>5.0</td>\n",
       "      <td>3.6</td>\n",
       "      <td>1.4</td>\n",
       "      <td>0.2</td>\n",
       "    </tr>\n",
       "  </tbody>\n",
       "</table>\n",
       "</div>"
      ],
      "text/plain": [
       "         Sepal length  Sepal width  Petal length  Petal width\n",
       "species                                                      \n",
       "setosa            5.1          3.5           1.4          0.2\n",
       "setosa            4.9          3.0           1.4          0.2\n",
       "setosa            4.7          3.2           1.3          0.2\n",
       "setosa            4.6          3.1           1.5          0.2\n",
       "setosa            5.0          3.6           1.4          0.2"
      ]
     },
     "execution_count": 23,
     "metadata": {},
     "output_type": "execute_result"
    }
   ],
   "source": [
    "print('data shape\\n', data.shape)\n",
    "data.head()"
   ]
  },
  {
   "cell_type": "markdown",
   "metadata": {},
   "source": [
    "### Calculate PCA so that we can visualise the clusters of data in 2D\n",
    "We will only use PCA to help visualise the data, it plays no role in any of the clustering algorithms used here"
   ]
  },
  {
   "cell_type": "code",
   "execution_count": 24,
   "metadata": {},
   "outputs": [],
   "source": [
    "W, scores, fracs = visualisation.do_pca(data)\n",
    "scores = scores/abs(scores).max().max()"
   ]
  },
  {
   "cell_type": "markdown",
   "metadata": {},
   "source": [
    "# (1) K-means\n",
    "\n",
    "### Run the k-means algorithm"
   ]
  },
  {
   "cell_type": "code",
   "execution_count": 25,
   "metadata": {},
   "outputs": [],
   "source": [
    "from sklearn.cluster import KMeans\n",
    "kmeans = KMeans(n_clusters=3, random_state=0).fit(data.values)"
   ]
  },
  {
   "cell_type": "markdown",
   "metadata": {},
   "source": [
    "### Print the cluster labels for each data item"
   ]
  },
  {
   "cell_type": "code",
   "execution_count": 26,
   "metadata": {},
   "outputs": [
    {
     "name": "stdout",
     "output_type": "stream",
     "text": [
      "[1 1 1 1 1 1 1 1 1 1 1 1 1 1 1 1 1 1 1 1 1 1 1 1 1 1 1 1 1 1 1 1 1 1 1 1 1\n",
      " 1 1 1 1 1 1 1 1 1 1 1 1 1 2 2 0 2 2 2 2 2 2 2 2 2 2 2 2 2 2 2 2 2 2 2 2 2\n",
      " 2 2 2 0 2 2 2 2 2 2 2 2 2 2 2 2 2 2 2 2 2 2 2 2 2 2 0 2 0 0 0 0 2 0 0 0 0\n",
      " 0 0 2 2 0 0 0 0 2 0 2 0 2 0 0 2 2 0 0 0 0 0 2 0 0 0 0 2 0 0 0 2 0 0 0 2 0\n",
      " 0 2]\n"
     ]
    }
   ],
   "source": [
    "kmeanslabels = kmeans.labels_\n",
    "print (kmeanslabels)"
   ]
  },
  {
   "cell_type": "markdown",
   "metadata": {},
   "source": [
    "### Compare cluster labels and class labels on the PCA projection\n",
    "We use markers with colours for the classes (iris species) and shapes for the clusters \n",
    "\n",
    "Note that the clustering was not done in the PCA space, it was done in the original 4-dimensional data space. It is usually preferable to cluster data in the original space where clusters may overlap less. \n",
    "\n",
    "We see that cluster 1 contains all the setosa flowers and only those. Most versicolors are in cluster 0 and most virginicas are in cluster 2, but there is a little mixing between these clusters. This is unsurprising as we know from the PCA plot (see below) that these two species overlap in the feature space, so they are expected to be difficult to separate with a clustering algorithm. "
   ]
  },
  {
   "cell_type": "code",
   "execution_count": 27,
   "metadata": {},
   "outputs": [
    {
     "data": {
      "application/vnd.plotly.v1+json": {
       "config": {
        "plotlyServerURL": "https://plot.ly"
       },
       "data": [
        {
         "hovertemplate": "color=setosa<br>symbol=1<br>PC1=%{x}<br>PC2=%{y}<extra></extra>",
         "legendgroup": "setosa, 1",
         "marker": {
          "color": "#636efa",
          "line": {
           "width": 1
          },
          "size": 8,
          "symbol": "circle"
         },
         "mode": "markers",
         "name": "setosa, 1",
         "orientation": "v",
         "showlegend": true,
         "type": "scatter",
         "x": [
          -0.6840564924778108,
          -0.6285570808938867,
          -0.7141185270441075,
          -0.6945320579159067,
          -0.7218550016834068,
          -0.6269470857571782,
          -0.7382221569976145,
          -0.6744344510886334,
          -0.7051812583546317,
          -0.6597792275236746,
          -0.65433684426136,
          -0.7026109189050553,
          -0.6700860416125499,
          -0.7953315637182449,
          -0.6641325206511632,
          -0.6833049050414275,
          -0.6668047967132801,
          -0.6615979795368697,
          -0.5734661939370724,
          -0.707817736081466,
          -0.5782238044996872,
          -0.6666311617126528,
          -0.8379945037504037,
          -0.5493315475821668,
          -0.6727176356879788,
          -0.5895577776381122,
          -0.6195529974677293,
          -0.6550216169610598,
          -0.6462579832722113,
          -0.6842252438270312,
          -0.6464267346214336,
          -0.5532356340958596,
          -0.7898484984692425,
          -0.7388711313620314,
          -0.6373207145827354,
          -0.6668716114499619,
          -0.6177391291059395,
          -0.7633839624020695,
          -0.7338737475215311,
          -0.6553640033109095,
          -0.6906328550536189,
          -0.5612483568077506,
          -0.771329870377279,
          -0.5933640330137245,
          -0.6455015121844248,
          -0.6251690157306714,
          -0.7203118212833798,
          -0.723224547082806,
          -0.6734072920390839,
          -0.6656708173997851
         ],
         "xaxis": "x",
         "y": [
          0.1449926712834779,
          -0.20362293648403712,
          -0.10327377290255357,
          -0.18044380479247474,
          0.19537748684626383,
          0.44980804956753867,
          0.014390993198294065,
          0.06740217184946957,
          -0.3368862062927551,
          -0.1416661693930422,
          0.31524814849141414,
          0.040196487978246376,
          -0.22009760391522637,
          -0.29042438508576635,
          0.5618327225010952,
          0.8113957979545343,
          0.448126179391188,
          0.14765426300701204,
          0.42438779369653024,
          0.3406684043624224,
          0.12349540976826659,
          0.27913210481551554,
          0.13844331383929148,
          0.02584306654546076,
          0.04145789061050937,
          -0.18896892568820636,
          0.07314582284062485,
          0.15922621453522132,
          0.09460785572069275,
          -0.1020123702702906,
          -0.15239718583307624,
          0.12797765812715886,
          0.541751970434333,
          0.6496302130071865,
          -0.13900457766950838,
          -0.062255013323675085,
          0.19982450657001222,
          0.17890281941507474,
          -0.27310878256640175,
          0.08121524755712496,
          0.13342071975526895,
          -0.7060193540282991,
          -0.14471300002551984,
          0.14266689755813333,
          0.3450118662623069,
          -0.21477442046815873,
          0.3384272801829763,
          -0.1166663810661214,
          0.30143507278375875,
          0.0027838130349409624
         ],
         "yaxis": "y"
        },
        {
         "hovertemplate": "color=versicolor<br>symbol=2<br>PC1=%{x}<br>PC2=%{y}<extra></extra>",
         "legendgroup": "versicolor, 2",
         "marker": {
          "color": "#EF553B",
          "line": {
           "width": 1
          },
          "size": 8,
          "symbol": "diamond"
         },
         "mode": "markers",
         "name": "versicolor, 2",
         "orientation": "v",
         "showlegend": true,
         "type": "scatter",
         "x": [
          0.33279447026167613,
          0.22090144105822204,
          0.12308079933256767,
          0.3248485622864668,
          0.117403526443773,
          0.22549030027161468,
          -0.14719648175764488,
          0.28027392275443813,
          0.0034512954898145076,
          -0.03328493279037467,
          0.13311204180827482,
          0.1697855608262423,
          0.21734462454578415,
          -0.010074832413054086,
          0.2644179051393023,
          0.10579398169217992,
          0.04796878587045067,
          0.3700411597815136,
          0.04981367063363947,
          0.2228180242094977,
          0.14386317885954045,
          0.37278513423171766,
          0.1911556600917795,
          0.21223974398191428,
          0.2640755187894525,
          0.37953024815674974,
          0.2008038342309488,
          -0.012160166913551913,
          0.039506856544764206,
          0.007083915864799446,
          0.07295695627427828,
          0.32050503646178874,
          0.06765308613673258,
          0.1296220400325186,
          0.3167697012973181,
          0.31550209251045946,
          0.021019244854199363,
          0.08562467647681977,
          0.0842958130641085,
          0.1886521353788847,
          0.10164944544117775,
          -0.1093979725520473,
          0.0871678568768466,
          0.027595607430009415,
          0.06878218179882264,
          0.17409884842646672,
          -0.13521841790620856,
          0.07754581548767106
         ],
         "xaxis": "x",
         "y": [
          0.260661965554907,
          0.17960416794433312,
          -0.5299200560260401,
          -0.06295385388568775,
          -0.17920211053808624,
          0.23349151031882748,
          -0.5595286669807465,
          0.009733929645340976,
          -0.3123265938877961,
          -0.8016662212666794,
          -0.019118395767088847,
          -0.5330373439288052,
          -0.0562493896253146,
          -0.1326015028720897,
          0.15376344452923685,
          -0.059296220257792166,
          -0.23925357144782364,
          -0.49000089617538684,
          -0.39345484876865805,
          0.11978496720892053,
          -0.12605214542790302,
          -0.28191227648005834,
          -0.12577046434282318,
          -0.019153624402232738,
          0.07575247755114042,
          -0.023335283398080033,
          -0.06824180869761146,
          -0.3197873436904459,
          -0.4718862832908421,
          -0.4749683425584636,
          -0.23477132308893134,
          -0.1914531942504333,
          -0.08692237167310288,
          0.255409239378127,
          0.15768643888503367,
          -0.41773358018844614,
          -0.06630127388121043,
          -0.4015242734851581,
          -0.3383061037619002,
          0.007528034101038717,
          -0.29854874681528476,
          -0.6099134825435322,
          -0.25847448014844543,
          -0.0547293223530011,
          -0.11626562189990822,
          -0.04677977581754357,
          -0.466304435203724,
          -0.18088398071443693
         ],
         "yaxis": "y"
        },
        {
         "hovertemplate": "color=versicolor<br>symbol=0<br>PC1=%{x}<br>PC2=%{y}<extra></extra>",
         "legendgroup": "versicolor, 0",
         "marker": {
          "color": "#EF553B",
          "line": {
           "width": 1
          },
          "size": 8,
          "symbol": "square"
         },
         "mode": "markers",
         "name": "versicolor, 0",
         "orientation": "v",
         "showlegend": true,
         "type": "scatter",
         "x": [
          0.37483945233081656,
          0.410308071824147
         ],
         "xaxis": "x",
         "y": [
          0.1861535253885198,
          0.1000731336939233
         ],
         "yaxis": "y"
        },
        {
         "hovertemplate": "color=virginica<br>symbol=2<br>PC1=%{x}<br>PC2=%{y}<extra></extra>",
         "legendgroup": "virginica, 2",
         "marker": {
          "color": "#00cc96",
          "line": {
           "width": 1
          },
          "size": 8,
          "symbol": "diamond"
         },
         "mode": "markers",
         "name": "virginica, 2",
         "orientation": "v",
         "showlegend": true,
         "type": "scatter",
         "x": [
          0.34973967972915904,
          0.110858180269362,
          0.38061944000909714,
          0.4433041830059817,
          0.3817224029211936,
          0.29540038020872605,
          0.4027045501987876,
          0.3549416132541645,
          0.30837947035971847,
          0.3365298054261468,
          0.27934459484296925,
          0.34973967972915904,
          0.4725836137345002,
          0.29016743028232195
         ],
         "xaxis": "x",
         "y": [
          -0.2110945704951427,
          -0.471654023116517,
          -0.351062304564234,
          -0.133588720607033,
          -0.5155247098702594,
          -0.1727021740046544,
          -0.14553171876857485,
          -0.0955673707498772,
          0.019435803627436948,
          -0.08847766758056026,
          0.005202260375693929,
          -0.2110945704951427,
          -0.2708454420418354,
          -0.0073494126996984325
         ],
         "yaxis": "y"
        },
        {
         "hovertemplate": "color=virginica<br>symbol=0<br>PC1=%{x}<br>PC2=%{y}<extra></extra>",
         "legendgroup": "virginica, 0",
         "marker": {
          "color": "#00cc96",
          "line": {
           "width": 1
          },
          "size": 8,
          "symbol": "square"
         },
         "mode": "markers",
         "name": "virginica, 0",
         "orientation": "v",
         "showlegend": true,
         "type": "scatter",
         "x": [
          0.5571544773473995,
          0.6661037643500284,
          0.4349994215162182,
          0.5641751628855999,
          0.8312069974118255,
          0.6954548934666339,
          0.6061223138166597,
          0.6825687508023167,
          0.412051019974795,
          0.4840912218735526,
          0.5690347100607552,
          0.48028496649794017,
          0.44444782790476633,
          0.7328758944465227,
          1,
          0.6154949163426608,
          0.8752394828433833,
          0.5137089334774609,
          0.590306978188212,
          0.5401734695446337,
          0.5629172196840304,
          0.7357830601351198,
          0.6962064809030152,
          0.562631982485573,
          0.36320865848063505,
          0.8453723323763004,
          0.4761101920224843,
          0.40664931869916865,
          0.5594126686715797,
          0.608576167417001,
          0.5744364113363817,
          0.6163533240429879,
          0.6035429852412181,
          0.5649880049478336,
          0.45947157056956833,
          0.4146523758257704
         ],
         "xaxis": "x",
         "y": [
          0.2629119139037714,
          0.1697560113154691,
          -0.014192663419079533,
          0.08911868124898285,
          0.24176466266235982,
          0.12688136646608816,
          -0.2148909905820462,
          0.5802437366280807,
          0.2092480075341835,
          -0.12737518116103488,
          0.12663491401615223,
          0.2042606420853049,
          0.07721091172258462,
          0.7722429278011641,
          0.005370759367582224,
          0.27500789079993254,
          0.12494083164968718,
          0.30625644720799494,
          0.3044005619374927,
          -0.056592703811263606,
          0.16984066086136787,
          0.07831720753866113,
          0.7932844931371441,
          -0.05393111208772979,
          -0.24505885553984824,
          0.2587985840966445,
          0.3227663432743278,
          0.12759572728537022,
          0.204225413450161,
          0.18542497229362687,
          0.2082871942649656,
          0.26203575018045244,
          0.31690281410213017,
          0.11688361912330147,
          0.08127269253738922,
          0.30545074075496337
         ],
         "yaxis": "y"
        }
       ],
       "layout": {
        "legend": {
         "title": {
          "text": "color, symbol"
         },
         "tracegroupgap": 0
        },
        "margin": {
         "t": 60
        },
        "template": {
         "data": {
          "bar": [
           {
            "error_x": {
             "color": "#2a3f5f"
            },
            "error_y": {
             "color": "#2a3f5f"
            },
            "marker": {
             "line": {
              "color": "#E5ECF6",
              "width": 0.5
             },
             "pattern": {
              "fillmode": "overlay",
              "size": 10,
              "solidity": 0.2
             }
            },
            "type": "bar"
           }
          ],
          "barpolar": [
           {
            "marker": {
             "line": {
              "color": "#E5ECF6",
              "width": 0.5
             },
             "pattern": {
              "fillmode": "overlay",
              "size": 10,
              "solidity": 0.2
             }
            },
            "type": "barpolar"
           }
          ],
          "carpet": [
           {
            "aaxis": {
             "endlinecolor": "#2a3f5f",
             "gridcolor": "white",
             "linecolor": "white",
             "minorgridcolor": "white",
             "startlinecolor": "#2a3f5f"
            },
            "baxis": {
             "endlinecolor": "#2a3f5f",
             "gridcolor": "white",
             "linecolor": "white",
             "minorgridcolor": "white",
             "startlinecolor": "#2a3f5f"
            },
            "type": "carpet"
           }
          ],
          "choropleth": [
           {
            "colorbar": {
             "outlinewidth": 0,
             "ticks": ""
            },
            "type": "choropleth"
           }
          ],
          "contour": [
           {
            "colorbar": {
             "outlinewidth": 0,
             "ticks": ""
            },
            "colorscale": [
             [
              0,
              "#0d0887"
             ],
             [
              0.1111111111111111,
              "#46039f"
             ],
             [
              0.2222222222222222,
              "#7201a8"
             ],
             [
              0.3333333333333333,
              "#9c179e"
             ],
             [
              0.4444444444444444,
              "#bd3786"
             ],
             [
              0.5555555555555556,
              "#d8576b"
             ],
             [
              0.6666666666666666,
              "#ed7953"
             ],
             [
              0.7777777777777778,
              "#fb9f3a"
             ],
             [
              0.8888888888888888,
              "#fdca26"
             ],
             [
              1,
              "#f0f921"
             ]
            ],
            "type": "contour"
           }
          ],
          "contourcarpet": [
           {
            "colorbar": {
             "outlinewidth": 0,
             "ticks": ""
            },
            "type": "contourcarpet"
           }
          ],
          "heatmap": [
           {
            "colorbar": {
             "outlinewidth": 0,
             "ticks": ""
            },
            "colorscale": [
             [
              0,
              "#0d0887"
             ],
             [
              0.1111111111111111,
              "#46039f"
             ],
             [
              0.2222222222222222,
              "#7201a8"
             ],
             [
              0.3333333333333333,
              "#9c179e"
             ],
             [
              0.4444444444444444,
              "#bd3786"
             ],
             [
              0.5555555555555556,
              "#d8576b"
             ],
             [
              0.6666666666666666,
              "#ed7953"
             ],
             [
              0.7777777777777778,
              "#fb9f3a"
             ],
             [
              0.8888888888888888,
              "#fdca26"
             ],
             [
              1,
              "#f0f921"
             ]
            ],
            "type": "heatmap"
           }
          ],
          "heatmapgl": [
           {
            "colorbar": {
             "outlinewidth": 0,
             "ticks": ""
            },
            "colorscale": [
             [
              0,
              "#0d0887"
             ],
             [
              0.1111111111111111,
              "#46039f"
             ],
             [
              0.2222222222222222,
              "#7201a8"
             ],
             [
              0.3333333333333333,
              "#9c179e"
             ],
             [
              0.4444444444444444,
              "#bd3786"
             ],
             [
              0.5555555555555556,
              "#d8576b"
             ],
             [
              0.6666666666666666,
              "#ed7953"
             ],
             [
              0.7777777777777778,
              "#fb9f3a"
             ],
             [
              0.8888888888888888,
              "#fdca26"
             ],
             [
              1,
              "#f0f921"
             ]
            ],
            "type": "heatmapgl"
           }
          ],
          "histogram": [
           {
            "marker": {
             "pattern": {
              "fillmode": "overlay",
              "size": 10,
              "solidity": 0.2
             }
            },
            "type": "histogram"
           }
          ],
          "histogram2d": [
           {
            "colorbar": {
             "outlinewidth": 0,
             "ticks": ""
            },
            "colorscale": [
             [
              0,
              "#0d0887"
             ],
             [
              0.1111111111111111,
              "#46039f"
             ],
             [
              0.2222222222222222,
              "#7201a8"
             ],
             [
              0.3333333333333333,
              "#9c179e"
             ],
             [
              0.4444444444444444,
              "#bd3786"
             ],
             [
              0.5555555555555556,
              "#d8576b"
             ],
             [
              0.6666666666666666,
              "#ed7953"
             ],
             [
              0.7777777777777778,
              "#fb9f3a"
             ],
             [
              0.8888888888888888,
              "#fdca26"
             ],
             [
              1,
              "#f0f921"
             ]
            ],
            "type": "histogram2d"
           }
          ],
          "histogram2dcontour": [
           {
            "colorbar": {
             "outlinewidth": 0,
             "ticks": ""
            },
            "colorscale": [
             [
              0,
              "#0d0887"
             ],
             [
              0.1111111111111111,
              "#46039f"
             ],
             [
              0.2222222222222222,
              "#7201a8"
             ],
             [
              0.3333333333333333,
              "#9c179e"
             ],
             [
              0.4444444444444444,
              "#bd3786"
             ],
             [
              0.5555555555555556,
              "#d8576b"
             ],
             [
              0.6666666666666666,
              "#ed7953"
             ],
             [
              0.7777777777777778,
              "#fb9f3a"
             ],
             [
              0.8888888888888888,
              "#fdca26"
             ],
             [
              1,
              "#f0f921"
             ]
            ],
            "type": "histogram2dcontour"
           }
          ],
          "mesh3d": [
           {
            "colorbar": {
             "outlinewidth": 0,
             "ticks": ""
            },
            "type": "mesh3d"
           }
          ],
          "parcoords": [
           {
            "line": {
             "colorbar": {
              "outlinewidth": 0,
              "ticks": ""
             }
            },
            "type": "parcoords"
           }
          ],
          "pie": [
           {
            "automargin": true,
            "type": "pie"
           }
          ],
          "scatter": [
           {
            "fillpattern": {
             "fillmode": "overlay",
             "size": 10,
             "solidity": 0.2
            },
            "type": "scatter"
           }
          ],
          "scatter3d": [
           {
            "line": {
             "colorbar": {
              "outlinewidth": 0,
              "ticks": ""
             }
            },
            "marker": {
             "colorbar": {
              "outlinewidth": 0,
              "ticks": ""
             }
            },
            "type": "scatter3d"
           }
          ],
          "scattercarpet": [
           {
            "marker": {
             "colorbar": {
              "outlinewidth": 0,
              "ticks": ""
             }
            },
            "type": "scattercarpet"
           }
          ],
          "scattergeo": [
           {
            "marker": {
             "colorbar": {
              "outlinewidth": 0,
              "ticks": ""
             }
            },
            "type": "scattergeo"
           }
          ],
          "scattergl": [
           {
            "marker": {
             "colorbar": {
              "outlinewidth": 0,
              "ticks": ""
             }
            },
            "type": "scattergl"
           }
          ],
          "scattermapbox": [
           {
            "marker": {
             "colorbar": {
              "outlinewidth": 0,
              "ticks": ""
             }
            },
            "type": "scattermapbox"
           }
          ],
          "scatterpolar": [
           {
            "marker": {
             "colorbar": {
              "outlinewidth": 0,
              "ticks": ""
             }
            },
            "type": "scatterpolar"
           }
          ],
          "scatterpolargl": [
           {
            "marker": {
             "colorbar": {
              "outlinewidth": 0,
              "ticks": ""
             }
            },
            "type": "scatterpolargl"
           }
          ],
          "scatterternary": [
           {
            "marker": {
             "colorbar": {
              "outlinewidth": 0,
              "ticks": ""
             }
            },
            "type": "scatterternary"
           }
          ],
          "surface": [
           {
            "colorbar": {
             "outlinewidth": 0,
             "ticks": ""
            },
            "colorscale": [
             [
              0,
              "#0d0887"
             ],
             [
              0.1111111111111111,
              "#46039f"
             ],
             [
              0.2222222222222222,
              "#7201a8"
             ],
             [
              0.3333333333333333,
              "#9c179e"
             ],
             [
              0.4444444444444444,
              "#bd3786"
             ],
             [
              0.5555555555555556,
              "#d8576b"
             ],
             [
              0.6666666666666666,
              "#ed7953"
             ],
             [
              0.7777777777777778,
              "#fb9f3a"
             ],
             [
              0.8888888888888888,
              "#fdca26"
             ],
             [
              1,
              "#f0f921"
             ]
            ],
            "type": "surface"
           }
          ],
          "table": [
           {
            "cells": {
             "fill": {
              "color": "#EBF0F8"
             },
             "line": {
              "color": "white"
             }
            },
            "header": {
             "fill": {
              "color": "#C8D4E3"
             },
             "line": {
              "color": "white"
             }
            },
            "type": "table"
           }
          ]
         },
         "layout": {
          "annotationdefaults": {
           "arrowcolor": "#2a3f5f",
           "arrowhead": 0,
           "arrowwidth": 1
          },
          "autotypenumbers": "strict",
          "coloraxis": {
           "colorbar": {
            "outlinewidth": 0,
            "ticks": ""
           }
          },
          "colorscale": {
           "diverging": [
            [
             0,
             "#8e0152"
            ],
            [
             0.1,
             "#c51b7d"
            ],
            [
             0.2,
             "#de77ae"
            ],
            [
             0.3,
             "#f1b6da"
            ],
            [
             0.4,
             "#fde0ef"
            ],
            [
             0.5,
             "#f7f7f7"
            ],
            [
             0.6,
             "#e6f5d0"
            ],
            [
             0.7,
             "#b8e186"
            ],
            [
             0.8,
             "#7fbc41"
            ],
            [
             0.9,
             "#4d9221"
            ],
            [
             1,
             "#276419"
            ]
           ],
           "sequential": [
            [
             0,
             "#0d0887"
            ],
            [
             0.1111111111111111,
             "#46039f"
            ],
            [
             0.2222222222222222,
             "#7201a8"
            ],
            [
             0.3333333333333333,
             "#9c179e"
            ],
            [
             0.4444444444444444,
             "#bd3786"
            ],
            [
             0.5555555555555556,
             "#d8576b"
            ],
            [
             0.6666666666666666,
             "#ed7953"
            ],
            [
             0.7777777777777778,
             "#fb9f3a"
            ],
            [
             0.8888888888888888,
             "#fdca26"
            ],
            [
             1,
             "#f0f921"
            ]
           ],
           "sequentialminus": [
            [
             0,
             "#0d0887"
            ],
            [
             0.1111111111111111,
             "#46039f"
            ],
            [
             0.2222222222222222,
             "#7201a8"
            ],
            [
             0.3333333333333333,
             "#9c179e"
            ],
            [
             0.4444444444444444,
             "#bd3786"
            ],
            [
             0.5555555555555556,
             "#d8576b"
            ],
            [
             0.6666666666666666,
             "#ed7953"
            ],
            [
             0.7777777777777778,
             "#fb9f3a"
            ],
            [
             0.8888888888888888,
             "#fdca26"
            ],
            [
             1,
             "#f0f921"
            ]
           ]
          },
          "colorway": [
           "#636efa",
           "#EF553B",
           "#00cc96",
           "#ab63fa",
           "#FFA15A",
           "#19d3f3",
           "#FF6692",
           "#B6E880",
           "#FF97FF",
           "#FECB52"
          ],
          "font": {
           "color": "#2a3f5f"
          },
          "geo": {
           "bgcolor": "white",
           "lakecolor": "white",
           "landcolor": "#E5ECF6",
           "showlakes": true,
           "showland": true,
           "subunitcolor": "white"
          },
          "hoverlabel": {
           "align": "left"
          },
          "hovermode": "closest",
          "mapbox": {
           "style": "light"
          },
          "paper_bgcolor": "white",
          "plot_bgcolor": "#E5ECF6",
          "polar": {
           "angularaxis": {
            "gridcolor": "white",
            "linecolor": "white",
            "ticks": ""
           },
           "bgcolor": "#E5ECF6",
           "radialaxis": {
            "gridcolor": "white",
            "linecolor": "white",
            "ticks": ""
           }
          },
          "scene": {
           "xaxis": {
            "backgroundcolor": "#E5ECF6",
            "gridcolor": "white",
            "gridwidth": 2,
            "linecolor": "white",
            "showbackground": true,
            "ticks": "",
            "zerolinecolor": "white"
           },
           "yaxis": {
            "backgroundcolor": "#E5ECF6",
            "gridcolor": "white",
            "gridwidth": 2,
            "linecolor": "white",
            "showbackground": true,
            "ticks": "",
            "zerolinecolor": "white"
           },
           "zaxis": {
            "backgroundcolor": "#E5ECF6",
            "gridcolor": "white",
            "gridwidth": 2,
            "linecolor": "white",
            "showbackground": true,
            "ticks": "",
            "zerolinecolor": "white"
           }
          },
          "shapedefaults": {
           "line": {
            "color": "#2a3f5f"
           }
          },
          "ternary": {
           "aaxis": {
            "gridcolor": "white",
            "linecolor": "white",
            "ticks": ""
           },
           "baxis": {
            "gridcolor": "white",
            "linecolor": "white",
            "ticks": ""
           },
           "bgcolor": "#E5ECF6",
           "caxis": {
            "gridcolor": "white",
            "linecolor": "white",
            "ticks": ""
           }
          },
          "title": {
           "x": 0.05
          },
          "xaxis": {
           "automargin": true,
           "gridcolor": "white",
           "linecolor": "white",
           "ticks": "",
           "title": {
            "standoff": 15
           },
           "zerolinecolor": "white",
           "zerolinewidth": 2
          },
          "yaxis": {
           "automargin": true,
           "gridcolor": "white",
           "linecolor": "white",
           "ticks": "",
           "title": {
            "standoff": 15
           },
           "zerolinecolor": "white",
           "zerolinewidth": 2
          }
         }
        },
        "xaxis": {
         "anchor": "y",
         "domain": [
          0,
          1
         ],
         "title": {
          "text": "PC1"
         }
        },
        "yaxis": {
         "anchor": "x",
         "domain": [
          0,
          1
         ],
         "title": {
          "text": "PC2"
         }
        }
       }
      },
      "text/html": [
       "<div>                            <div id=\"4ec73e4e-c45f-41f0-92bf-9b0956b6f540\" class=\"plotly-graph-div\" style=\"height:525px; width:100%;\"></div>            <script type=\"text/javascript\">                require([\"plotly\"], function(Plotly) {                    window.PLOTLYENV=window.PLOTLYENV || {};                                    if (document.getElementById(\"4ec73e4e-c45f-41f0-92bf-9b0956b6f540\")) {                    Plotly.newPlot(                        \"4ec73e4e-c45f-41f0-92bf-9b0956b6f540\",                        [{\"hovertemplate\":\"color=setosa<br>symbol=1<br>PC1=%{x}<br>PC2=%{y}<extra></extra>\",\"legendgroup\":\"setosa, 1\",\"marker\":{\"color\":\"#636efa\",\"symbol\":\"circle\",\"line\":{\"width\":1},\"size\":8},\"mode\":\"markers\",\"name\":\"setosa, 1\",\"orientation\":\"v\",\"showlegend\":true,\"x\":[-0.6840564924778108,-0.6285570808938867,-0.7141185270441075,-0.6945320579159067,-0.7218550016834068,-0.6269470857571782,-0.7382221569976145,-0.6744344510886334,-0.7051812583546317,-0.6597792275236746,-0.65433684426136,-0.7026109189050553,-0.6700860416125499,-0.7953315637182449,-0.6641325206511632,-0.6833049050414275,-0.6668047967132801,-0.6615979795368697,-0.5734661939370724,-0.707817736081466,-0.5782238044996872,-0.6666311617126528,-0.8379945037504037,-0.5493315475821668,-0.6727176356879788,-0.5895577776381122,-0.6195529974677293,-0.6550216169610598,-0.6462579832722113,-0.6842252438270312,-0.6464267346214336,-0.5532356340958596,-0.7898484984692425,-0.7388711313620314,-0.6373207145827354,-0.6668716114499619,-0.6177391291059395,-0.7633839624020695,-0.7338737475215311,-0.6553640033109095,-0.6906328550536189,-0.5612483568077506,-0.771329870377279,-0.5933640330137245,-0.6455015121844248,-0.6251690157306714,-0.7203118212833798,-0.723224547082806,-0.6734072920390839,-0.6656708173997851],\"xaxis\":\"x\",\"y\":[0.1449926712834779,-0.20362293648403712,-0.10327377290255357,-0.18044380479247474,0.19537748684626383,0.44980804956753867,0.014390993198294065,0.06740217184946957,-0.3368862062927551,-0.1416661693930422,0.31524814849141414,0.040196487978246376,-0.22009760391522637,-0.29042438508576635,0.5618327225010952,0.8113957979545343,0.448126179391188,0.14765426300701204,0.42438779369653024,0.3406684043624224,0.12349540976826659,0.27913210481551554,0.13844331383929148,0.02584306654546076,0.04145789061050937,-0.18896892568820636,0.07314582284062485,0.15922621453522132,0.09460785572069275,-0.1020123702702906,-0.15239718583307624,0.12797765812715886,0.541751970434333,0.6496302130071865,-0.13900457766950838,-0.062255013323675085,0.19982450657001222,0.17890281941507474,-0.27310878256640175,0.08121524755712496,0.13342071975526895,-0.7060193540282991,-0.14471300002551984,0.14266689755813333,0.3450118662623069,-0.21477442046815873,0.3384272801829763,-0.1166663810661214,0.30143507278375875,0.0027838130349409624],\"yaxis\":\"y\",\"type\":\"scatter\"},{\"hovertemplate\":\"color=versicolor<br>symbol=2<br>PC1=%{x}<br>PC2=%{y}<extra></extra>\",\"legendgroup\":\"versicolor, 2\",\"marker\":{\"color\":\"#EF553B\",\"symbol\":\"diamond\",\"line\":{\"width\":1},\"size\":8},\"mode\":\"markers\",\"name\":\"versicolor, 2\",\"orientation\":\"v\",\"showlegend\":true,\"x\":[0.33279447026167613,0.22090144105822204,0.12308079933256767,0.3248485622864668,0.117403526443773,0.22549030027161468,-0.14719648175764488,0.28027392275443813,0.0034512954898145076,-0.03328493279037467,0.13311204180827482,0.1697855608262423,0.21734462454578415,-0.010074832413054086,0.2644179051393023,0.10579398169217992,0.04796878587045067,0.3700411597815136,0.04981367063363947,0.2228180242094977,0.14386317885954045,0.37278513423171766,0.1911556600917795,0.21223974398191428,0.2640755187894525,0.37953024815674974,0.2008038342309488,-0.012160166913551913,0.039506856544764206,0.007083915864799446,0.07295695627427828,0.32050503646178874,0.06765308613673258,0.1296220400325186,0.3167697012973181,0.31550209251045946,0.021019244854199363,0.08562467647681977,0.0842958130641085,0.1886521353788847,0.10164944544117775,-0.1093979725520473,0.0871678568768466,0.027595607430009415,0.06878218179882264,0.17409884842646672,-0.13521841790620856,0.07754581548767106],\"xaxis\":\"x\",\"y\":[0.260661965554907,0.17960416794433312,-0.5299200560260401,-0.06295385388568775,-0.17920211053808624,0.23349151031882748,-0.5595286669807465,0.009733929645340976,-0.3123265938877961,-0.8016662212666794,-0.019118395767088847,-0.5330373439288052,-0.0562493896253146,-0.1326015028720897,0.15376344452923685,-0.059296220257792166,-0.23925357144782364,-0.49000089617538684,-0.39345484876865805,0.11978496720892053,-0.12605214542790302,-0.28191227648005834,-0.12577046434282318,-0.019153624402232738,0.07575247755114042,-0.023335283398080033,-0.06824180869761146,-0.3197873436904459,-0.4718862832908421,-0.4749683425584636,-0.23477132308893134,-0.1914531942504333,-0.08692237167310288,0.255409239378127,0.15768643888503367,-0.41773358018844614,-0.06630127388121043,-0.4015242734851581,-0.3383061037619002,0.007528034101038717,-0.29854874681528476,-0.6099134825435322,-0.25847448014844543,-0.0547293223530011,-0.11626562189990822,-0.04677977581754357,-0.466304435203724,-0.18088398071443693],\"yaxis\":\"y\",\"type\":\"scatter\"},{\"hovertemplate\":\"color=versicolor<br>symbol=0<br>PC1=%{x}<br>PC2=%{y}<extra></extra>\",\"legendgroup\":\"versicolor, 0\",\"marker\":{\"color\":\"#EF553B\",\"symbol\":\"square\",\"line\":{\"width\":1},\"size\":8},\"mode\":\"markers\",\"name\":\"versicolor, 0\",\"orientation\":\"v\",\"showlegend\":true,\"x\":[0.37483945233081656,0.410308071824147],\"xaxis\":\"x\",\"y\":[0.1861535253885198,0.1000731336939233],\"yaxis\":\"y\",\"type\":\"scatter\"},{\"hovertemplate\":\"color=virginica<br>symbol=2<br>PC1=%{x}<br>PC2=%{y}<extra></extra>\",\"legendgroup\":\"virginica, 2\",\"marker\":{\"color\":\"#00cc96\",\"symbol\":\"diamond\",\"line\":{\"width\":1},\"size\":8},\"mode\":\"markers\",\"name\":\"virginica, 2\",\"orientation\":\"v\",\"showlegend\":true,\"x\":[0.34973967972915904,0.110858180269362,0.38061944000909714,0.4433041830059817,0.3817224029211936,0.29540038020872605,0.4027045501987876,0.3549416132541645,0.30837947035971847,0.3365298054261468,0.27934459484296925,0.34973967972915904,0.4725836137345002,0.29016743028232195],\"xaxis\":\"x\",\"y\":[-0.2110945704951427,-0.471654023116517,-0.351062304564234,-0.133588720607033,-0.5155247098702594,-0.1727021740046544,-0.14553171876857485,-0.0955673707498772,0.019435803627436948,-0.08847766758056026,0.005202260375693929,-0.2110945704951427,-0.2708454420418354,-0.0073494126996984325],\"yaxis\":\"y\",\"type\":\"scatter\"},{\"hovertemplate\":\"color=virginica<br>symbol=0<br>PC1=%{x}<br>PC2=%{y}<extra></extra>\",\"legendgroup\":\"virginica, 0\",\"marker\":{\"color\":\"#00cc96\",\"symbol\":\"square\",\"line\":{\"width\":1},\"size\":8},\"mode\":\"markers\",\"name\":\"virginica, 0\",\"orientation\":\"v\",\"showlegend\":true,\"x\":[0.5571544773473995,0.6661037643500284,0.4349994215162182,0.5641751628855999,0.8312069974118255,0.6954548934666339,0.6061223138166597,0.6825687508023167,0.412051019974795,0.4840912218735526,0.5690347100607552,0.48028496649794017,0.44444782790476633,0.7328758944465227,1.0,0.6154949163426608,0.8752394828433833,0.5137089334774609,0.590306978188212,0.5401734695446337,0.5629172196840304,0.7357830601351198,0.6962064809030152,0.562631982485573,0.36320865848063505,0.8453723323763004,0.4761101920224843,0.40664931869916865,0.5594126686715797,0.608576167417001,0.5744364113363817,0.6163533240429879,0.6035429852412181,0.5649880049478336,0.45947157056956833,0.4146523758257704],\"xaxis\":\"x\",\"y\":[0.2629119139037714,0.1697560113154691,-0.014192663419079533,0.08911868124898285,0.24176466266235982,0.12688136646608816,-0.2148909905820462,0.5802437366280807,0.2092480075341835,-0.12737518116103488,0.12663491401615223,0.2042606420853049,0.07721091172258462,0.7722429278011641,0.005370759367582224,0.27500789079993254,0.12494083164968718,0.30625644720799494,0.3044005619374927,-0.056592703811263606,0.16984066086136787,0.07831720753866113,0.7932844931371441,-0.05393111208772979,-0.24505885553984824,0.2587985840966445,0.3227663432743278,0.12759572728537022,0.204225413450161,0.18542497229362687,0.2082871942649656,0.26203575018045244,0.31690281410213017,0.11688361912330147,0.08127269253738922,0.30545074075496337],\"yaxis\":\"y\",\"type\":\"scatter\"}],                        {\"template\":{\"data\":{\"histogram2dcontour\":[{\"type\":\"histogram2dcontour\",\"colorbar\":{\"outlinewidth\":0,\"ticks\":\"\"},\"colorscale\":[[0.0,\"#0d0887\"],[0.1111111111111111,\"#46039f\"],[0.2222222222222222,\"#7201a8\"],[0.3333333333333333,\"#9c179e\"],[0.4444444444444444,\"#bd3786\"],[0.5555555555555556,\"#d8576b\"],[0.6666666666666666,\"#ed7953\"],[0.7777777777777778,\"#fb9f3a\"],[0.8888888888888888,\"#fdca26\"],[1.0,\"#f0f921\"]]}],\"choropleth\":[{\"type\":\"choropleth\",\"colorbar\":{\"outlinewidth\":0,\"ticks\":\"\"}}],\"histogram2d\":[{\"type\":\"histogram2d\",\"colorbar\":{\"outlinewidth\":0,\"ticks\":\"\"},\"colorscale\":[[0.0,\"#0d0887\"],[0.1111111111111111,\"#46039f\"],[0.2222222222222222,\"#7201a8\"],[0.3333333333333333,\"#9c179e\"],[0.4444444444444444,\"#bd3786\"],[0.5555555555555556,\"#d8576b\"],[0.6666666666666666,\"#ed7953\"],[0.7777777777777778,\"#fb9f3a\"],[0.8888888888888888,\"#fdca26\"],[1.0,\"#f0f921\"]]}],\"heatmap\":[{\"type\":\"heatmap\",\"colorbar\":{\"outlinewidth\":0,\"ticks\":\"\"},\"colorscale\":[[0.0,\"#0d0887\"],[0.1111111111111111,\"#46039f\"],[0.2222222222222222,\"#7201a8\"],[0.3333333333333333,\"#9c179e\"],[0.4444444444444444,\"#bd3786\"],[0.5555555555555556,\"#d8576b\"],[0.6666666666666666,\"#ed7953\"],[0.7777777777777778,\"#fb9f3a\"],[0.8888888888888888,\"#fdca26\"],[1.0,\"#f0f921\"]]}],\"heatmapgl\":[{\"type\":\"heatmapgl\",\"colorbar\":{\"outlinewidth\":0,\"ticks\":\"\"},\"colorscale\":[[0.0,\"#0d0887\"],[0.1111111111111111,\"#46039f\"],[0.2222222222222222,\"#7201a8\"],[0.3333333333333333,\"#9c179e\"],[0.4444444444444444,\"#bd3786\"],[0.5555555555555556,\"#d8576b\"],[0.6666666666666666,\"#ed7953\"],[0.7777777777777778,\"#fb9f3a\"],[0.8888888888888888,\"#fdca26\"],[1.0,\"#f0f921\"]]}],\"contourcarpet\":[{\"type\":\"contourcarpet\",\"colorbar\":{\"outlinewidth\":0,\"ticks\":\"\"}}],\"contour\":[{\"type\":\"contour\",\"colorbar\":{\"outlinewidth\":0,\"ticks\":\"\"},\"colorscale\":[[0.0,\"#0d0887\"],[0.1111111111111111,\"#46039f\"],[0.2222222222222222,\"#7201a8\"],[0.3333333333333333,\"#9c179e\"],[0.4444444444444444,\"#bd3786\"],[0.5555555555555556,\"#d8576b\"],[0.6666666666666666,\"#ed7953\"],[0.7777777777777778,\"#fb9f3a\"],[0.8888888888888888,\"#fdca26\"],[1.0,\"#f0f921\"]]}],\"surface\":[{\"type\":\"surface\",\"colorbar\":{\"outlinewidth\":0,\"ticks\":\"\"},\"colorscale\":[[0.0,\"#0d0887\"],[0.1111111111111111,\"#46039f\"],[0.2222222222222222,\"#7201a8\"],[0.3333333333333333,\"#9c179e\"],[0.4444444444444444,\"#bd3786\"],[0.5555555555555556,\"#d8576b\"],[0.6666666666666666,\"#ed7953\"],[0.7777777777777778,\"#fb9f3a\"],[0.8888888888888888,\"#fdca26\"],[1.0,\"#f0f921\"]]}],\"mesh3d\":[{\"type\":\"mesh3d\",\"colorbar\":{\"outlinewidth\":0,\"ticks\":\"\"}}],\"scatter\":[{\"fillpattern\":{\"fillmode\":\"overlay\",\"size\":10,\"solidity\":0.2},\"type\":\"scatter\"}],\"parcoords\":[{\"type\":\"parcoords\",\"line\":{\"colorbar\":{\"outlinewidth\":0,\"ticks\":\"\"}}}],\"scatterpolargl\":[{\"type\":\"scatterpolargl\",\"marker\":{\"colorbar\":{\"outlinewidth\":0,\"ticks\":\"\"}}}],\"bar\":[{\"error_x\":{\"color\":\"#2a3f5f\"},\"error_y\":{\"color\":\"#2a3f5f\"},\"marker\":{\"line\":{\"color\":\"#E5ECF6\",\"width\":0.5},\"pattern\":{\"fillmode\":\"overlay\",\"size\":10,\"solidity\":0.2}},\"type\":\"bar\"}],\"scattergeo\":[{\"type\":\"scattergeo\",\"marker\":{\"colorbar\":{\"outlinewidth\":0,\"ticks\":\"\"}}}],\"scatterpolar\":[{\"type\":\"scatterpolar\",\"marker\":{\"colorbar\":{\"outlinewidth\":0,\"ticks\":\"\"}}}],\"histogram\":[{\"marker\":{\"pattern\":{\"fillmode\":\"overlay\",\"size\":10,\"solidity\":0.2}},\"type\":\"histogram\"}],\"scattergl\":[{\"type\":\"scattergl\",\"marker\":{\"colorbar\":{\"outlinewidth\":0,\"ticks\":\"\"}}}],\"scatter3d\":[{\"type\":\"scatter3d\",\"line\":{\"colorbar\":{\"outlinewidth\":0,\"ticks\":\"\"}},\"marker\":{\"colorbar\":{\"outlinewidth\":0,\"ticks\":\"\"}}}],\"scattermapbox\":[{\"type\":\"scattermapbox\",\"marker\":{\"colorbar\":{\"outlinewidth\":0,\"ticks\":\"\"}}}],\"scatterternary\":[{\"type\":\"scatterternary\",\"marker\":{\"colorbar\":{\"outlinewidth\":0,\"ticks\":\"\"}}}],\"scattercarpet\":[{\"type\":\"scattercarpet\",\"marker\":{\"colorbar\":{\"outlinewidth\":0,\"ticks\":\"\"}}}],\"carpet\":[{\"aaxis\":{\"endlinecolor\":\"#2a3f5f\",\"gridcolor\":\"white\",\"linecolor\":\"white\",\"minorgridcolor\":\"white\",\"startlinecolor\":\"#2a3f5f\"},\"baxis\":{\"endlinecolor\":\"#2a3f5f\",\"gridcolor\":\"white\",\"linecolor\":\"white\",\"minorgridcolor\":\"white\",\"startlinecolor\":\"#2a3f5f\"},\"type\":\"carpet\"}],\"table\":[{\"cells\":{\"fill\":{\"color\":\"#EBF0F8\"},\"line\":{\"color\":\"white\"}},\"header\":{\"fill\":{\"color\":\"#C8D4E3\"},\"line\":{\"color\":\"white\"}},\"type\":\"table\"}],\"barpolar\":[{\"marker\":{\"line\":{\"color\":\"#E5ECF6\",\"width\":0.5},\"pattern\":{\"fillmode\":\"overlay\",\"size\":10,\"solidity\":0.2}},\"type\":\"barpolar\"}],\"pie\":[{\"automargin\":true,\"type\":\"pie\"}]},\"layout\":{\"autotypenumbers\":\"strict\",\"colorway\":[\"#636efa\",\"#EF553B\",\"#00cc96\",\"#ab63fa\",\"#FFA15A\",\"#19d3f3\",\"#FF6692\",\"#B6E880\",\"#FF97FF\",\"#FECB52\"],\"font\":{\"color\":\"#2a3f5f\"},\"hovermode\":\"closest\",\"hoverlabel\":{\"align\":\"left\"},\"paper_bgcolor\":\"white\",\"plot_bgcolor\":\"#E5ECF6\",\"polar\":{\"bgcolor\":\"#E5ECF6\",\"angularaxis\":{\"gridcolor\":\"white\",\"linecolor\":\"white\",\"ticks\":\"\"},\"radialaxis\":{\"gridcolor\":\"white\",\"linecolor\":\"white\",\"ticks\":\"\"}},\"ternary\":{\"bgcolor\":\"#E5ECF6\",\"aaxis\":{\"gridcolor\":\"white\",\"linecolor\":\"white\",\"ticks\":\"\"},\"baxis\":{\"gridcolor\":\"white\",\"linecolor\":\"white\",\"ticks\":\"\"},\"caxis\":{\"gridcolor\":\"white\",\"linecolor\":\"white\",\"ticks\":\"\"}},\"coloraxis\":{\"colorbar\":{\"outlinewidth\":0,\"ticks\":\"\"}},\"colorscale\":{\"sequential\":[[0.0,\"#0d0887\"],[0.1111111111111111,\"#46039f\"],[0.2222222222222222,\"#7201a8\"],[0.3333333333333333,\"#9c179e\"],[0.4444444444444444,\"#bd3786\"],[0.5555555555555556,\"#d8576b\"],[0.6666666666666666,\"#ed7953\"],[0.7777777777777778,\"#fb9f3a\"],[0.8888888888888888,\"#fdca26\"],[1.0,\"#f0f921\"]],\"sequentialminus\":[[0.0,\"#0d0887\"],[0.1111111111111111,\"#46039f\"],[0.2222222222222222,\"#7201a8\"],[0.3333333333333333,\"#9c179e\"],[0.4444444444444444,\"#bd3786\"],[0.5555555555555556,\"#d8576b\"],[0.6666666666666666,\"#ed7953\"],[0.7777777777777778,\"#fb9f3a\"],[0.8888888888888888,\"#fdca26\"],[1.0,\"#f0f921\"]],\"diverging\":[[0,\"#8e0152\"],[0.1,\"#c51b7d\"],[0.2,\"#de77ae\"],[0.3,\"#f1b6da\"],[0.4,\"#fde0ef\"],[0.5,\"#f7f7f7\"],[0.6,\"#e6f5d0\"],[0.7,\"#b8e186\"],[0.8,\"#7fbc41\"],[0.9,\"#4d9221\"],[1,\"#276419\"]]},\"xaxis\":{\"gridcolor\":\"white\",\"linecolor\":\"white\",\"ticks\":\"\",\"title\":{\"standoff\":15},\"zerolinecolor\":\"white\",\"automargin\":true,\"zerolinewidth\":2},\"yaxis\":{\"gridcolor\":\"white\",\"linecolor\":\"white\",\"ticks\":\"\",\"title\":{\"standoff\":15},\"zerolinecolor\":\"white\",\"automargin\":true,\"zerolinewidth\":2},\"scene\":{\"xaxis\":{\"backgroundcolor\":\"#E5ECF6\",\"gridcolor\":\"white\",\"linecolor\":\"white\",\"showbackground\":true,\"ticks\":\"\",\"zerolinecolor\":\"white\",\"gridwidth\":2},\"yaxis\":{\"backgroundcolor\":\"#E5ECF6\",\"gridcolor\":\"white\",\"linecolor\":\"white\",\"showbackground\":true,\"ticks\":\"\",\"zerolinecolor\":\"white\",\"gridwidth\":2},\"zaxis\":{\"backgroundcolor\":\"#E5ECF6\",\"gridcolor\":\"white\",\"linecolor\":\"white\",\"showbackground\":true,\"ticks\":\"\",\"zerolinecolor\":\"white\",\"gridwidth\":2}},\"shapedefaults\":{\"line\":{\"color\":\"#2a3f5f\"}},\"annotationdefaults\":{\"arrowcolor\":\"#2a3f5f\",\"arrowhead\":0,\"arrowwidth\":1},\"geo\":{\"bgcolor\":\"white\",\"landcolor\":\"#E5ECF6\",\"subunitcolor\":\"white\",\"showland\":true,\"showlakes\":true,\"lakecolor\":\"white\"},\"title\":{\"x\":0.05},\"mapbox\":{\"style\":\"light\"}}},\"xaxis\":{\"anchor\":\"y\",\"domain\":[0.0,1.0],\"title\":{\"text\":\"PC1\"}},\"yaxis\":{\"anchor\":\"x\",\"domain\":[0.0,1.0],\"title\":{\"text\":\"PC2\"}},\"legend\":{\"title\":{\"text\":\"color, symbol\"},\"tracegroupgap\":0},\"margin\":{\"t\":60}},                        {\"responsive\": true}                    ).then(function(){\n",
       "                            \n",
       "var gd = document.getElementById('4ec73e4e-c45f-41f0-92bf-9b0956b6f540');\n",
       "var x = new MutationObserver(function (mutations, observer) {{\n",
       "        var display = window.getComputedStyle(gd).display;\n",
       "        if (!display || display === 'none') {{\n",
       "            console.log([gd, 'removed!']);\n",
       "            Plotly.purge(gd);\n",
       "            observer.disconnect();\n",
       "        }}\n",
       "}});\n",
       "\n",
       "// Listen for the removal of the full notebook cells\n",
       "var notebookContainer = gd.closest('#notebook-container');\n",
       "if (notebookContainer) {{\n",
       "    x.observe(notebookContainer, {childList: true});\n",
       "}}\n",
       "\n",
       "// Listen for the clearing of the current output cell\n",
       "var outputEl = gd.closest('.output');\n",
       "if (outputEl) {{\n",
       "    x.observe(outputEl, {childList: true});\n",
       "}}\n",
       "\n",
       "                        })                };                });            </script>        </div>"
      ]
     },
     "metadata": {},
     "output_type": "display_data"
    }
   ],
   "source": [
    "fig = px.scatter(scores, x='PC1', y='PC2', color=labels, symbol=kmeanslabels)\n",
    "fig.update_traces(mode='markers', marker_line_width=1, marker_size=8)\n",
    "fig.show() "
   ]
  },
  {
   "cell_type": "markdown",
   "metadata": {},
   "source": [
    "### A crosstab table can be used to compare our clusters with the ground truth\n",
    "\n",
    "In most applications we don't have ground truth for clustering results, and then it is harder to assess the performance of a particular clustering algorithm. However, benchmarking different algorithms using data with a ground truth can be useful, e.g. https://f1000research.com/articles/7-1141/v2 is a journal paper where a number of different methods for single-cell data clustering were compared. "
   ]
  },
  {
   "cell_type": "code",
   "execution_count": 28,
   "metadata": {},
   "outputs": [
    {
     "name": "stdout",
     "output_type": "stream",
     "text": [
      "Labels    setosa  versicolor  virginica\n",
      "Clusters                               \n",
      "0              0           2         36\n",
      "1             50           0          0\n",
      "2              0          48         14\n"
     ]
    }
   ],
   "source": [
    "# Let's look at which cell-types are in which cluster\n",
    "df = pd.DataFrame({'Labels': labels, 'Clusters': kmeanslabels})\n",
    "ct = pd.crosstab(df['Clusters'], df['Labels'])\n",
    "print(ct)"
   ]
  },
  {
   "cell_type": "markdown",
   "metadata": {},
   "source": [
    "The crosstab table confirms that Cluster 1 captures setosa perfectly while there is some mixing between the other two species."
   ]
  },
  {
   "cell_type": "markdown",
   "metadata": {},
   "source": [
    "### We can quantify how good the clustering is using the Adjusted Rand Index (ARI)\n",
    "\n",
    "See https://scikit-learn.org/stable/modules/clustering.html#clustering-performance-evaluation for a definition of this and other metrics for assessing clustering performance, with and without ground truth labels. "
   ]
  },
  {
   "cell_type": "code",
   "execution_count": 29,
   "metadata": {},
   "outputs": [
    {
     "name": "stdout",
     "output_type": "stream",
     "text": [
      "0.7302382722834697\n"
     ]
    }
   ],
   "source": [
    "kmeansARI = adjusted_rand_score(kmeanslabels, labels)\n",
    "print(kmeansARI)"
   ]
  },
  {
   "cell_type": "markdown",
   "metadata": {
    "collapsed": true
   },
   "source": [
    "# (2) Hierarchical clustering"
   ]
  },
  {
   "cell_type": "code",
   "execution_count": 30,
   "metadata": {},
   "outputs": [],
   "source": [
    "from scipy.cluster.hierarchy import linkage\n",
    "np.set_printoptions(precision=5, suppress=True)  # suppress scientific float notation\n",
    "%matplotlib inline"
   ]
  },
  {
   "cell_type": "code",
   "execution_count": 31,
   "metadata": {},
   "outputs": [
    {
     "name": "stdout",
     "output_type": "stream",
     "text": [
      "Shape (150, 4)\n",
      "[[101.      142.        0.        2.     ]\n",
      " [  7.       39.        0.1       2.     ]\n",
      " [  0.       17.        0.1       2.     ]\n",
      " [  9.       34.        0.1       2.     ]\n",
      " [128.      132.        0.1       2.     ]\n",
      " [ 10.       48.        0.1       2.     ]\n",
      " [  4.       37.        0.14142   2.     ]\n",
      " [ 19.       21.        0.14142   2.     ]\n",
      " [ 29.       30.        0.14142   2.     ]\n",
      " [ 57.       93.        0.14142   2.     ]\n",
      " [ 80.       81.        0.14142   2.     ]\n",
      " [116.      137.        0.14142   2.     ]\n",
      " [  8.       38.        0.14142   2.     ]\n",
      " [  3.       47.        0.14142   2.     ]\n",
      " [ 27.       28.        0.14142   2.     ]\n",
      " [ 82.       92.        0.14142   2.     ]\n",
      " [ 95.       96.        0.14142   2.     ]\n",
      " [127.      138.        0.14142   2.     ]\n",
      " [  1.       45.        0.14142   2.     ]\n",
      " [ 63.       91.        0.14142   2.     ]\n",
      " [ 65.       75.        0.14142   2.     ]\n",
      " [ 40.      152.        0.17321   3.     ]\n",
      " [123.      126.        0.17321   2.     ]\n",
      " [ 49.      151.        0.17321   3.     ]\n",
      " [112.      139.        0.17321   2.     ]\n",
      " [ 94.       99.        0.17321   2.     ]\n",
      " [ 12.      168.        0.18257   3.     ]\n",
      " [ 88.      166.        0.18257   3.     ]\n",
      " [ 66.       84.        0.2       2.     ]\n",
      " [ 23.       26.        0.2       2.     ]\n",
      " [ 53.       89.        0.2       2.     ]\n",
      " [ 74.       97.        0.2       2.     ]\n",
      " [ 25.      153.        0.20817   3.     ]\n",
      " [ 46.      157.        0.21602   3.     ]\n",
      " [  2.      163.        0.21602   3.     ]\n",
      " [110.      147.        0.22361   2.     ]\n",
      " [120.      143.        0.22361   2.     ]\n",
      " [136.      148.        0.24495   2.     ]\n",
      " [ 78.      169.        0.24495   3.     ]\n",
      " [ 69.      160.        0.24495   3.     ]\n",
      " [ 54.       58.        0.24495   2.     ]\n",
      " [140.      144.        0.24495   2.     ]\n",
      " [141.      145.        0.24495   2.     ]\n",
      " [ 43.      179.        0.2582    3.     ]\n",
      " [ 68.       87.        0.26458   2.     ]\n",
      " [ 50.       52.        0.26458   2.     ]\n",
      " [ 51.       56.        0.26458   2.     ]\n",
      " [107.      130.        0.26458   2.     ]\n",
      " [105.      122.        0.26458   2.     ]\n",
      " [103.      161.        0.2708    3.     ]\n",
      " [164.      171.        0.27568   5.     ]\n",
      " [ 20.       31.        0.28284   2.     ]\n",
      " [ 11.      158.        0.29439   3.     ]\n",
      " [ 67.      165.        0.29439   3.     ]\n",
      " [ 70.      167.        0.29439   3.     ]\n",
      " [ 42.      162.        0.29439   3.     ]\n",
      " [113.      150.        0.30551   3.     ]\n",
      " [  6.      184.        0.31358   4.     ]\n",
      " [173.      200.        0.31464   8.     ]\n",
      " [ 55.       90.        0.31623   2.     ]\n",
      " [176.      182.        0.31623   6.     ]\n",
      " [ 86.      195.        0.32146   3.     ]\n",
      " [124.      186.        0.33166   3.     ]\n",
      " [ 83.      133.        0.33166   2.     ]\n",
      " [  5.       18.        0.33166   2.     ]\n",
      " [ 13.      205.        0.33665   4.     ]\n",
      " [175.      177.        0.34157   5.     ]\n",
      " [ 32.       33.        0.34641   2.     ]\n",
      " [125.      129.        0.34641   2.     ]\n",
      " [104.      154.        0.35119   3.     ]\n",
      " [ 73.      188.        0.35355   4.     ]\n",
      " [149.      204.        0.35824   4.     ]\n",
      " [146.      172.        0.36056   3.     ]\n",
      " [121.      206.        0.36286   4.     ]\n",
      " [ 36.      155.        0.36968   3.     ]\n",
      " [ 76.      190.        0.37417   3.     ]\n",
      " [115.      187.        0.37417   3.     ]\n",
      " [ 61.       71.        0.4       2.     ]\n",
      " [156.      208.        0.4062   10.     ]\n",
      " [ 72.      213.        0.41231   3.     ]\n",
      " [117.      131.        0.41231   2.     ]\n",
      " [191.      212.        0.41473   5.     ]\n",
      " [ 24.      202.        0.4223    4.     ]\n",
      " [ 98.      159.        0.4397    3.     ]\n",
      " [ 16.      224.        0.4397    4.     ]\n",
      " [ 35.      210.        0.4397    7.     ]\n",
      " [ 64.       79.        0.44721   2.     ]\n",
      " [ 85.      196.        0.45826   3.     ]\n",
      " [ 77.      185.        0.46547   3.     ]\n",
      " [ 44.      183.        0.46726   4.     ]\n",
      " [111.      199.        0.48132   4.     ]\n",
      " [180.      189.        0.48166   5.     ]\n",
      " [102.      218.        0.4899    3.     ]\n",
      " [174.      192.        0.51478   4.     ]\n",
      " [181.      227.        0.52915   4.     ]\n",
      " [170.      225.        0.53292   5.     ]\n",
      " [118.      198.        0.53852   3.     ]\n",
      " [ 14.       15.        0.54772   2.     ]\n",
      " [178.      209.        0.57446   4.     ]\n",
      " [222.      229.        0.58023   6.     ]\n",
      " [201.      234.        0.59442   6.     ]\n",
      " [114.      223.        0.60581   5.     ]\n",
      " [ 60.      233.        0.61373   4.     ]\n",
      " [217.      247.        0.6245    4.     ]\n",
      " [ 59.      241.        0.63087   6.     ]\n",
      " [207.      232.        0.6364    8.     ]\n",
      " [197.      242.        0.64031   5.     ]\n",
      " [ 62.      203.        0.64291   4.     ]\n",
      " [214.      250.        0.6627    8.     ]\n",
      " [119.      194.        0.70946   3.     ]\n",
      " [100.      226.        0.72457   4.     ]\n",
      " [108.      219.        0.73258   4.     ]\n",
      " [216.      248.        0.73409   9.     ]\n",
      " [211.      245.        0.73496   8.     ]\n",
      " [240.      261.        0.76322   8.     ]\n",
      " [193.      239.        0.77629   7.     ]\n",
      " [109.      135.        0.80623   2.     ]\n",
      " [235.      255.        0.81874  15.     ]\n",
      " [238.      243.        0.82187   7.     ]\n",
      " [236.      254.        0.82614   8.     ]\n",
      " [ 22.      215.        0.85557   5.     ]\n",
      " [220.      244.        0.86458   8.     ]\n",
      " [228.      265.        0.90998  17.     ]\n",
      " [257.      269.        0.92871  12.     ]\n",
      " [134.      249.        0.92916   7.     ]\n",
      " [221.      237.        1.00534   7.     ]\n",
      " [231.      260.        1.04706   9.     ]\n",
      " [ 41.      270.        1.10514   6.     ]\n",
      " [230.      266.        1.15326   4.     ]\n",
      " [106.      262.        1.21701  10.     ]\n",
      " [253.      258.        1.25399  12.     ]\n",
      " [259.      274.        1.30486  10.     ]\n",
      " [267.      277.        1.37127  21.     ]\n",
      " [264.      268.        1.41139  15.     ]\n",
      " [271.      275.        1.49548  15.     ]\n",
      " [246.      278.        1.59777   7.     ]\n",
      " [251.      281.        1.75917  15.     ]\n",
      " [276.      283.        1.76045  24.     ]\n",
      " [256.      285.        1.84584  12.     ]\n",
      " [273.      279.        1.91608  22.     ]\n",
      " [272.      280.        1.91875  29.     ]\n",
      " [263.      284.        2.05363  23.     ]\n",
      " [252.      289.        2.81394  26.     ]\n",
      " [286.      291.        2.86942  38.     ]\n",
      " [282.      290.        3.82805  50.     ]\n",
      " [287.      288.        4.84771  36.     ]\n",
      " [292.      293.        6.39941  64.     ]\n",
      " [295.      296.       12.3004  100.     ]\n",
      " [294.      297.       32.44761 150.     ]]\n"
     ]
    }
   ],
   "source": [
    "# generate the linkage matrix\n",
    "X = data.values\n",
    "print('Shape', X.shape)\n",
    "Z = linkage(X, method='ward', metric='euclidean')\n",
    "print(Z)"
   ]
  },
  {
   "cell_type": "markdown",
   "metadata": {},
   "source": [
    "### For an explanation of other linkage methods and metrics see [this page](https://docs.scipy.org/doc/scipy-0.18.1/reference/generated/scipy.cluster.hierarchy.linkage.html#scipy.cluster.hierarchy.linkage)\n",
    "### For an explanation of difference distance metrics see [here](https://docs.scipy.org/doc/scipy/reference/generated/scipy.spatial.distance.pdist.html).\n",
    "\n",
    "### Let us now look at the linkage matrix in details:"
   ]
  },
  {
   "cell_type": "code",
   "execution_count": 32,
   "metadata": {
    "scrolled": true
   },
   "outputs": [
    {
     "data": {
      "text/plain": [
       "array([[101. , 142. ,   0. ,   2. ],\n",
       "       [  7. ,  39. ,   0.1,   2. ],\n",
       "       [  0. ,  17. ,   0.1,   2. ],\n",
       "       [  9. ,  34. ,   0.1,   2. ],\n",
       "       [128. , 132. ,   0.1,   2. ]])"
      ]
     },
     "execution_count": 32,
     "metadata": {},
     "output_type": "execute_result"
    }
   ],
   "source": [
    "Z[0:5,:] # Rows 1-5 (counting starts at zero)"
   ]
  },
  {
   "cell_type": "code",
   "execution_count": 33,
   "metadata": {},
   "outputs": [
    {
     "data": {
      "text/plain": [
       "array([[ 94.     ,  99.     ,   0.17321,   2.     ],\n",
       "       [ 12.     , 168.     ,   0.18257,   3.     ],\n",
       "       [ 88.     , 166.     ,   0.18257,   3.     ],\n",
       "       [ 66.     ,  84.     ,   0.2    ,   2.     ],\n",
       "       [ 23.     ,  26.     ,   0.2    ,   2.     ]])"
      ]
     },
     "execution_count": 33,
     "metadata": {},
     "output_type": "execute_result"
    }
   ],
   "source": [
    "Z[25:30,:] # Rows 26-30"
   ]
  },
  {
   "cell_type": "code",
   "execution_count": 34,
   "metadata": {},
   "outputs": [
    {
     "data": {
      "text/plain": [
       "array([294.     , 297.     ,  32.44761, 150.     ])"
      ]
     },
     "execution_count": 34,
     "metadata": {},
     "output_type": "execute_result"
    }
   ],
   "source": [
    "Z[148,:] # Finally, two clusters are merged to a single cluster containing all the data"
   ]
  },
  {
   "cell_type": "markdown",
   "metadata": {},
   "source": [
    "The first two columns of Z are the indices of the data-points or clusters that are being merged in the current step of the algorithm. The third column is the distance between the data-points or clusters (we discuss how this is calculated in the Lecture). The final column is the size of the resulting cluster after merging. \n",
    "\n",
    "Initially the data are numbered from 0 to 149. In the first step (row 1) point 101 and point 142 are merged into a new cluster of size two which is assigned number 150. In the second step (row 2) points 7 and 39 merge to form another cluster of two numbered 151. Later on, in row 27, datapoint 12 is merged with a cluster 168 to form a cluster of size 3. This means that 168 was a cluster of size 2 formed earlier in the process. Eventually, the clusters become progressively larger until two large clusters (294 and 297) are merged to form a single cluster in the final step. \n",
    "\n",
    "### Now let us plot a dendogram summarising the clustering.\n",
    "For a particular distance threshold a specific number of clusters is defined and the function below returns the clustering given that choice of threshold."
   ]
  },
  {
   "cell_type": "code",
   "execution_count": 35,
   "metadata": {},
   "outputs": [
    {
     "data": {
      "image/png": "[encoded data removed]",
      "text/plain": [
       "<Figure size 1800x720 with 1 Axes>"
      ]
     },
     "metadata": {
      "needs_background": "light"
     },
     "output_type": "display_data"
    }
   ],
   "source": [
    "clusterlabels = clustering.Dendogram(data, method='ward', metric='euclidean', distanceThreshold=0.3)"
   ]
  },
  {
   "cell_type": "markdown",
   "metadata": {},
   "source": [
    "### Below we show the clusters in the PCA space and look at the crosstab table and ARI score\n",
    "\n",
    "The ARI score is similar to k-means although the clustering is slightly different as can be seen form the crosstab table below. Both clustering algorithms perfectly separate out the setosa species from the rest but there is some mixing up of the other two species."
   ]
  },
  {
   "cell_type": "code",
   "execution_count": 36,
   "metadata": {},
   "outputs": [
    {
     "data": {
      "application/vnd.plotly.v1+json": {
       "config": {
        "plotlyServerURL": "https://plot.ly"
       },
       "data": [
        {
         "hovertemplate": "color=setosa<br>symbol=0<br>PC1=%{x}<br>PC2=%{y}<extra></extra>",
         "legendgroup": "setosa, 0",
         "marker": {
          "color": "#636efa",
          "line": {
           "width": 1
          },
          "size": 8,
          "symbol": "circle"
         },
         "mode": "markers",
         "name": "setosa, 0",
         "orientation": "v",
         "showlegend": true,
         "type": "scatter",
         "x": [
          -0.6840564924778108,
          -0.6285570808938867,
          -0.7141185270441075,
          -0.6945320579159067,
          -0.7218550016834068,
          -0.6269470857571782,
          -0.7382221569976145,
          -0.6744344510886334,
          -0.7051812583546317,
          -0.6597792275236746,
          -0.65433684426136,
          -0.7026109189050553,
          -0.6700860416125499,
          -0.7953315637182449,
          -0.6641325206511632,
          -0.6833049050414275,
          -0.6668047967132801,
          -0.6615979795368697,
          -0.5734661939370724,
          -0.707817736081466,
          -0.5782238044996872,
          -0.6666311617126528,
          -0.8379945037504037,
          -0.5493315475821668,
          -0.6727176356879788,
          -0.5895577776381122,
          -0.6195529974677293,
          -0.6550216169610598,
          -0.6462579832722113,
          -0.6842252438270312,
          -0.6464267346214336,
          -0.5532356340958596,
          -0.7898484984692425,
          -0.7388711313620314,
          -0.6373207145827354,
          -0.6668716114499619,
          -0.6177391291059395,
          -0.7633839624020695,
          -0.7338737475215311,
          -0.6553640033109095,
          -0.6906328550536189,
          -0.5612483568077506,
          -0.771329870377279,
          -0.5933640330137245,
          -0.6455015121844248,
          -0.6251690157306714,
          -0.7203118212833798,
          -0.723224547082806,
          -0.6734072920390839,
          -0.6656708173997851
         ],
         "xaxis": "x",
         "y": [
          0.1449926712834779,
          -0.20362293648403712,
          -0.10327377290255357,
          -0.18044380479247474,
          0.19537748684626383,
          0.44980804956753867,
          0.014390993198294065,
          0.06740217184946957,
          -0.3368862062927551,
          -0.1416661693930422,
          0.31524814849141414,
          0.040196487978246376,
          -0.22009760391522637,
          -0.29042438508576635,
          0.5618327225010952,
          0.8113957979545343,
          0.448126179391188,
          0.14765426300701204,
          0.42438779369653024,
          0.3406684043624224,
          0.12349540976826659,
          0.27913210481551554,
          0.13844331383929148,
          0.02584306654546076,
          0.04145789061050937,
          -0.18896892568820636,
          0.07314582284062485,
          0.15922621453522132,
          0.09460785572069275,
          -0.1020123702702906,
          -0.15239718583307624,
          0.12797765812715886,
          0.541751970434333,
          0.6496302130071865,
          -0.13900457766950838,
          -0.062255013323675085,
          0.19982450657001222,
          0.17890281941507474,
          -0.27310878256640175,
          0.08121524755712496,
          0.13342071975526895,
          -0.7060193540282991,
          -0.14471300002551984,
          0.14266689755813333,
          0.3450118662623069,
          -0.21477442046815873,
          0.3384272801829763,
          -0.1166663810661214,
          0.30143507278375875,
          0.0027838130349409624
         ],
         "yaxis": "y"
        },
        {
         "hovertemplate": "color=versicolor<br>symbol=1<br>PC1=%{x}<br>PC2=%{y}<extra></extra>",
         "legendgroup": "versicolor, 1",
         "marker": {
          "color": "#EF553B",
          "line": {
           "width": 1
          },
          "size": 8,
          "symbol": "diamond"
         },
         "mode": "markers",
         "name": "versicolor, 1",
         "orientation": "v",
         "showlegend": true,
         "type": "scatter",
         "x": [
          0.33279447026167613,
          0.22090144105822204,
          0.37483945233081656,
          0.12308079933256767,
          0.3248485622864668,
          0.117403526443773,
          0.22549030027161468,
          -0.14719648175764488,
          0.28027392275443813,
          0.0034512954898145076,
          -0.03328493279037467,
          0.13311204180827482,
          0.1697855608262423,
          0.21734462454578415,
          -0.010074832413054086,
          0.2644179051393023,
          0.10579398169217992,
          0.04796878587045067,
          0.3700411597815136,
          0.04981367063363947,
          0.2228180242094977,
          0.14386317885954045,
          0.37278513423171766,
          0.1911556600917795,
          0.21223974398191428,
          0.2640755187894525,
          0.37953024815674974,
          0.2008038342309488,
          -0.012160166913551913,
          0.039506856544764206,
          0.007083915864799446,
          0.07295695627427828,
          0.32050503646178874,
          0.06765308613673258,
          0.1296220400325186,
          0.3167697012973181,
          0.31550209251045946,
          0.021019244854199363,
          0.08562467647681977,
          0.0842958130641085,
          0.1886521353788847,
          0.10164944544117775,
          -0.1093979725520473,
          0.0871678568768466,
          0.027595607430009415,
          0.06878218179882264,
          0.17409884842646672,
          -0.13521841790620856,
          0.07754581548767106
         ],
         "xaxis": "x",
         "y": [
          0.260661965554907,
          0.17960416794433312,
          0.1861535253885198,
          -0.5299200560260401,
          -0.06295385388568775,
          -0.17920211053808624,
          0.23349151031882748,
          -0.5595286669807465,
          0.009733929645340976,
          -0.3123265938877961,
          -0.8016662212666794,
          -0.019118395767088847,
          -0.5330373439288052,
          -0.0562493896253146,
          -0.1326015028720897,
          0.15376344452923685,
          -0.059296220257792166,
          -0.23925357144782364,
          -0.49000089617538684,
          -0.39345484876865805,
          0.11978496720892053,
          -0.12605214542790302,
          -0.28191227648005834,
          -0.12577046434282318,
          -0.019153624402232738,
          0.07575247755114042,
          -0.023335283398080033,
          -0.06824180869761146,
          -0.3197873436904459,
          -0.4718862832908421,
          -0.4749683425584636,
          -0.23477132308893134,
          -0.1914531942504333,
          -0.08692237167310288,
          0.255409239378127,
          0.15768643888503367,
          -0.41773358018844614,
          -0.06630127388121043,
          -0.4015242734851581,
          -0.3383061037619002,
          0.007528034101038717,
          -0.29854874681528476,
          -0.6099134825435322,
          -0.25847448014844543,
          -0.0547293223530011,
          -0.11626562189990822,
          -0.04677977581754357,
          -0.466304435203724,
          -0.18088398071443693
         ],
         "yaxis": "y"
        },
        {
         "hovertemplate": "color=versicolor<br>symbol=2<br>PC1=%{x}<br>PC2=%{y}<extra></extra>",
         "legendgroup": "versicolor, 2",
         "marker": {
          "color": "#EF553B",
          "line": {
           "width": 1
          },
          "size": 8,
          "symbol": "square"
         },
         "mode": "markers",
         "name": "versicolor, 2",
         "orientation": "v",
         "showlegend": true,
         "type": "scatter",
         "x": [
          0.410308071824147
         ],
         "xaxis": "x",
         "y": [
          0.1000731336939233
         ],
         "yaxis": "y"
        },
        {
         "hovertemplate": "color=virginica<br>symbol=1<br>PC1=%{x}<br>PC2=%{y}<extra></extra>",
         "legendgroup": "virginica, 1",
         "marker": {
          "color": "#00cc96",
          "line": {
           "width": 1
          },
          "size": 8,
          "symbol": "diamond"
         },
         "mode": "markers",
         "name": "virginica, 1",
         "orientation": "v",
         "showlegend": true,
         "type": "scatter",
         "x": [
          0.34973967972915904,
          0.110858180269362,
          0.38061944000909714,
          0.4433041830059817,
          0.3817224029211936,
          0.29540038020872605,
          0.4027045501987876,
          0.3549416132541645,
          0.30837947035971847,
          0.3365298054261468,
          0.36320865848063505,
          0.27934459484296925,
          0.34973967972915904,
          0.4725836137345002,
          0.29016743028232195
         ],
         "xaxis": "x",
         "y": [
          -0.2110945704951427,
          -0.471654023116517,
          -0.351062304564234,
          -0.133588720607033,
          -0.5155247098702594,
          -0.1727021740046544,
          -0.14553171876857485,
          -0.0955673707498772,
          0.019435803627436948,
          -0.08847766758056026,
          -0.24505885553984824,
          0.005202260375693929,
          -0.2110945704951427,
          -0.2708454420418354,
          -0.0073494126996984325
         ],
         "yaxis": "y"
        },
        {
         "hovertemplate": "color=virginica<br>symbol=2<br>PC1=%{x}<br>PC2=%{y}<extra></extra>",
         "legendgroup": "virginica, 2",
         "marker": {
          "color": "#00cc96",
          "line": {
           "width": 1
          },
          "size": 8,
          "symbol": "square"
         },
         "mode": "markers",
         "name": "virginica, 2",
         "orientation": "v",
         "showlegend": true,
         "type": "scatter",
         "x": [
          0.5571544773473995,
          0.6661037643500284,
          0.4349994215162182,
          0.5641751628855999,
          0.8312069974118255,
          0.6954548934666339,
          0.6061223138166597,
          0.6825687508023167,
          0.412051019974795,
          0.4840912218735526,
          0.5690347100607552,
          0.48028496649794017,
          0.44444782790476633,
          0.7328758944465227,
          1,
          0.6154949163426608,
          0.8752394828433833,
          0.5137089334774609,
          0.590306978188212,
          0.5401734695446337,
          0.5629172196840304,
          0.7357830601351198,
          0.6962064809030152,
          0.562631982485573,
          0.8453723323763004,
          0.4761101920224843,
          0.40664931869916865,
          0.5594126686715797,
          0.608576167417001,
          0.5744364113363817,
          0.6163533240429879,
          0.6035429852412181,
          0.5649880049478336,
          0.45947157056956833,
          0.4146523758257704
         ],
         "xaxis": "x",
         "y": [
          0.2629119139037714,
          0.1697560113154691,
          -0.014192663419079533,
          0.08911868124898285,
          0.24176466266235982,
          0.12688136646608816,
          -0.2148909905820462,
          0.5802437366280807,
          0.2092480075341835,
          -0.12737518116103488,
          0.12663491401615223,
          0.2042606420853049,
          0.07721091172258462,
          0.7722429278011641,
          0.005370759367582224,
          0.27500789079993254,
          0.12494083164968718,
          0.30625644720799494,
          0.3044005619374927,
          -0.056592703811263606,
          0.16984066086136787,
          0.07831720753866113,
          0.7932844931371441,
          -0.05393111208772979,
          0.2587985840966445,
          0.3227663432743278,
          0.12759572728537022,
          0.204225413450161,
          0.18542497229362687,
          0.2082871942649656,
          0.26203575018045244,
          0.31690281410213017,
          0.11688361912330147,
          0.08127269253738922,
          0.30545074075496337
         ],
         "yaxis": "y"
        }
       ],
       "layout": {
        "legend": {
         "title": {
          "text": "color, symbol"
         },
         "tracegroupgap": 0
        },
        "margin": {
         "t": 60
        },
        "template": {
         "data": {
          "bar": [
           {
            "error_x": {
             "color": "#2a3f5f"
            },
            "error_y": {
             "color": "#2a3f5f"
            },
            "marker": {
             "line": {
              "color": "#E5ECF6",
              "width": 0.5
             },
             "pattern": {
              "fillmode": "overlay",
              "size": 10,
              "solidity": 0.2
             }
            },
            "type": "bar"
           }
          ],
          "barpolar": [
           {
            "marker": {
             "line": {
              "color": "#E5ECF6",
              "width": 0.5
             },
             "pattern": {
              "fillmode": "overlay",
              "size": 10,
              "solidity": 0.2
             }
            },
            "type": "barpolar"
           }
          ],
          "carpet": [
           {
            "aaxis": {
             "endlinecolor": "#2a3f5f",
             "gridcolor": "white",
             "linecolor": "white",
             "minorgridcolor": "white",
             "startlinecolor": "#2a3f5f"
            },
            "baxis": {
             "endlinecolor": "#2a3f5f",
             "gridcolor": "white",
             "linecolor": "white",
             "minorgridcolor": "white",
             "startlinecolor": "#2a3f5f"
            },
            "type": "carpet"
           }
          ],
          "choropleth": [
           {
            "colorbar": {
             "outlinewidth": 0,
             "ticks": ""
            },
            "type": "choropleth"
           }
          ],
          "contour": [
           {
            "colorbar": {
             "outlinewidth": 0,
             "ticks": ""
            },
            "colorscale": [
             [
              0,
              "#0d0887"
             ],
             [
              0.1111111111111111,
              "#46039f"
             ],
             [
              0.2222222222222222,
              "#7201a8"
             ],
             [
              0.3333333333333333,
              "#9c179e"
             ],
             [
              0.4444444444444444,
              "#bd3786"
             ],
             [
              0.5555555555555556,
              "#d8576b"
             ],
             [
              0.6666666666666666,
              "#ed7953"
             ],
             [
              0.7777777777777778,
              "#fb9f3a"
             ],
             [
              0.8888888888888888,
              "#fdca26"
             ],
             [
              1,
              "#f0f921"
             ]
            ],
            "type": "contour"
           }
          ],
          "contourcarpet": [
           {
            "colorbar": {
             "outlinewidth": 0,
             "ticks": ""
            },
            "type": "contourcarpet"
           }
          ],
          "heatmap": [
           {
            "colorbar": {
             "outlinewidth": 0,
             "ticks": ""
            },
            "colorscale": [
             [
              0,
              "#0d0887"
             ],
             [
              0.1111111111111111,
              "#46039f"
             ],
             [
              0.2222222222222222,
              "#7201a8"
             ],
             [
              0.3333333333333333,
              "#9c179e"
             ],
             [
              0.4444444444444444,
              "#bd3786"
             ],
             [
              0.5555555555555556,
              "#d8576b"
             ],
             [
              0.6666666666666666,
              "#ed7953"
             ],
             [
              0.7777777777777778,
              "#fb9f3a"
             ],
             [
              0.8888888888888888,
              "#fdca26"
             ],
             [
              1,
              "#f0f921"
             ]
            ],
            "type": "heatmap"
           }
          ],
          "heatmapgl": [
           {
            "colorbar": {
             "outlinewidth": 0,
             "ticks": ""
            },
            "colorscale": [
             [
              0,
              "#0d0887"
             ],
             [
              0.1111111111111111,
              "#46039f"
             ],
             [
              0.2222222222222222,
              "#7201a8"
             ],
             [
              0.3333333333333333,
              "#9c179e"
             ],
             [
              0.4444444444444444,
              "#bd3786"
             ],
             [
              0.5555555555555556,
              "#d8576b"
             ],
             [
              0.6666666666666666,
              "#ed7953"
             ],
             [
              0.7777777777777778,
              "#fb9f3a"
             ],
             [
              0.8888888888888888,
              "#fdca26"
             ],
             [
              1,
              "#f0f921"
             ]
            ],
            "type": "heatmapgl"
           }
          ],
          "histogram": [
           {
            "marker": {
             "pattern": {
              "fillmode": "overlay",
              "size": 10,
              "solidity": 0.2
             }
            },
            "type": "histogram"
           }
          ],
          "histogram2d": [
           {
            "colorbar": {
             "outlinewidth": 0,
             "ticks": ""
            },
            "colorscale": [
             [
              0,
              "#0d0887"
             ],
             [
              0.1111111111111111,
              "#46039f"
             ],
             [
              0.2222222222222222,
              "#7201a8"
             ],
             [
              0.3333333333333333,
              "#9c179e"
             ],
             [
              0.4444444444444444,
              "#bd3786"
             ],
             [
              0.5555555555555556,
              "#d8576b"
             ],
             [
              0.6666666666666666,
              "#ed7953"
             ],
             [
              0.7777777777777778,
              "#fb9f3a"
             ],
             [
              0.8888888888888888,
              "#fdca26"
             ],
             [
              1,
              "#f0f921"
             ]
            ],
            "type": "histogram2d"
           }
          ],
          "histogram2dcontour": [
           {
            "colorbar": {
             "outlinewidth": 0,
             "ticks": ""
            },
            "colorscale": [
             [
              0,
              "#0d0887"
             ],
             [
              0.1111111111111111,
              "#46039f"
             ],
             [
              0.2222222222222222,
              "#7201a8"
             ],
             [
              0.3333333333333333,
              "#9c179e"
             ],
             [
              0.4444444444444444,
              "#bd3786"
             ],
             [
              0.5555555555555556,
              "#d8576b"
             ],
             [
              0.6666666666666666,
              "#ed7953"
             ],
             [
              0.7777777777777778,
              "#fb9f3a"
             ],
             [
              0.8888888888888888,
              "#fdca26"
             ],
             [
              1,
              "#f0f921"
             ]
            ],
            "type": "histogram2dcontour"
           }
          ],
          "mesh3d": [
           {
            "colorbar": {
             "outlinewidth": 0,
             "ticks": ""
            },
            "type": "mesh3d"
           }
          ],
          "parcoords": [
           {
            "line": {
             "colorbar": {
              "outlinewidth": 0,
              "ticks": ""
             }
            },
            "type": "parcoords"
           }
          ],
          "pie": [
           {
            "automargin": true,
            "type": "pie"
           }
          ],
          "scatter": [
           {
            "fillpattern": {
             "fillmode": "overlay",
             "size": 10,
             "solidity": 0.2
            },
            "type": "scatter"
           }
          ],
          "scatter3d": [
           {
            "line": {
             "colorbar": {
              "outlinewidth": 0,
              "ticks": ""
             }
            },
            "marker": {
             "colorbar": {
              "outlinewidth": 0,
              "ticks": ""
             }
            },
            "type": "scatter3d"
           }
          ],
          "scattercarpet": [
           {
            "marker": {
             "colorbar": {
              "outlinewidth": 0,
              "ticks": ""
             }
            },
            "type": "scattercarpet"
           }
          ],
          "scattergeo": [
           {
            "marker": {
             "colorbar": {
              "outlinewidth": 0,
              "ticks": ""
             }
            },
            "type": "scattergeo"
           }
          ],
          "scattergl": [
           {
            "marker": {
             "colorbar": {
              "outlinewidth": 0,
              "ticks": ""
             }
            },
            "type": "scattergl"
           }
          ],
          "scattermapbox": [
           {
            "marker": {
             "colorbar": {
              "outlinewidth": 0,
              "ticks": ""
             }
            },
            "type": "scattermapbox"
           }
          ],
          "scatterpolar": [
           {
            "marker": {
             "colorbar": {
              "outlinewidth": 0,
              "ticks": ""
             }
            },
            "type": "scatterpolar"
           }
          ],
          "scatterpolargl": [
           {
            "marker": {
             "colorbar": {
              "outlinewidth": 0,
              "ticks": ""
             }
            },
            "type": "scatterpolargl"
           }
          ],
          "scatterternary": [
           {
            "marker": {
             "colorbar": {
              "outlinewidth": 0,
              "ticks": ""
             }
            },
            "type": "scatterternary"
           }
          ],
          "surface": [
           {
            "colorbar": {
             "outlinewidth": 0,
             "ticks": ""
            },
            "colorscale": [
             [
              0,
              "#0d0887"
             ],
             [
              0.1111111111111111,
              "#46039f"
             ],
             [
              0.2222222222222222,
              "#7201a8"
             ],
             [
              0.3333333333333333,
              "#9c179e"
             ],
             [
              0.4444444444444444,
              "#bd3786"
             ],
             [
              0.5555555555555556,
              "#d8576b"
             ],
             [
              0.6666666666666666,
              "#ed7953"
             ],
             [
              0.7777777777777778,
              "#fb9f3a"
             ],
             [
              0.8888888888888888,
              "#fdca26"
             ],
             [
              1,
              "#f0f921"
             ]
            ],
            "type": "surface"
           }
          ],
          "table": [
           {
            "cells": {
             "fill": {
              "color": "#EBF0F8"
             },
             "line": {
              "color": "white"
             }
            },
            "header": {
             "fill": {
              "color": "#C8D4E3"
             },
             "line": {
              "color": "white"
             }
            },
            "type": "table"
           }
          ]
         },
         "layout": {
          "annotationdefaults": {
           "arrowcolor": "#2a3f5f",
           "arrowhead": 0,
           "arrowwidth": 1
          },
          "autotypenumbers": "strict",
          "coloraxis": {
           "colorbar": {
            "outlinewidth": 0,
            "ticks": ""
           }
          },
          "colorscale": {
           "diverging": [
            [
             0,
             "#8e0152"
            ],
            [
             0.1,
             "#c51b7d"
            ],
            [
             0.2,
             "#de77ae"
            ],
            [
             0.3,
             "#f1b6da"
            ],
            [
             0.4,
             "#fde0ef"
            ],
            [
             0.5,
             "#f7f7f7"
            ],
            [
             0.6,
             "#e6f5d0"
            ],
            [
             0.7,
             "#b8e186"
            ],
            [
             0.8,
             "#7fbc41"
            ],
            [
             0.9,
             "#4d9221"
            ],
            [
             1,
             "#276419"
            ]
           ],
           "sequential": [
            [
             0,
             "#0d0887"
            ],
            [
             0.1111111111111111,
             "#46039f"
            ],
            [
             0.2222222222222222,
             "#7201a8"
            ],
            [
             0.3333333333333333,
             "#9c179e"
            ],
            [
             0.4444444444444444,
             "#bd3786"
            ],
            [
             0.5555555555555556,
             "#d8576b"
            ],
            [
             0.6666666666666666,
             "#ed7953"
            ],
            [
             0.7777777777777778,
             "#fb9f3a"
            ],
            [
             0.8888888888888888,
             "#fdca26"
            ],
            [
             1,
             "#f0f921"
            ]
           ],
           "sequentialminus": [
            [
             0,
             "#0d0887"
            ],
            [
             0.1111111111111111,
             "#46039f"
            ],
            [
             0.2222222222222222,
             "#7201a8"
            ],
            [
             0.3333333333333333,
             "#9c179e"
            ],
            [
             0.4444444444444444,
             "#bd3786"
            ],
            [
             0.5555555555555556,
             "#d8576b"
            ],
            [
             0.6666666666666666,
             "#ed7953"
            ],
            [
             0.7777777777777778,
             "#fb9f3a"
            ],
            [
             0.8888888888888888,
             "#fdca26"
            ],
            [
             1,
             "#f0f921"
            ]
           ]
          },
          "colorway": [
           "#636efa",
           "#EF553B",
           "#00cc96",
           "#ab63fa",
           "#FFA15A",
           "#19d3f3",
           "#FF6692",
           "#B6E880",
           "#FF97FF",
           "#FECB52"
          ],
          "font": {
           "color": "#2a3f5f"
          },
          "geo": {
           "bgcolor": "white",
           "lakecolor": "white",
           "landcolor": "#E5ECF6",
           "showlakes": true,
           "showland": true,
           "subunitcolor": "white"
          },
          "hoverlabel": {
           "align": "left"
          },
          "hovermode": "closest",
          "mapbox": {
           "style": "light"
          },
          "paper_bgcolor": "white",
          "plot_bgcolor": "#E5ECF6",
          "polar": {
           "angularaxis": {
            "gridcolor": "white",
            "linecolor": "white",
            "ticks": ""
           },
           "bgcolor": "#E5ECF6",
           "radialaxis": {
            "gridcolor": "white",
            "linecolor": "white",
            "ticks": ""
           }
          },
          "scene": {
           "xaxis": {
            "backgroundcolor": "#E5ECF6",
            "gridcolor": "white",
            "gridwidth": 2,
            "linecolor": "white",
            "showbackground": true,
            "ticks": "",
            "zerolinecolor": "white"
           },
           "yaxis": {
            "backgroundcolor": "#E5ECF6",
            "gridcolor": "white",
            "gridwidth": 2,
            "linecolor": "white",
            "showbackground": true,
            "ticks": "",
            "zerolinecolor": "white"
           },
           "zaxis": {
            "backgroundcolor": "#E5ECF6",
            "gridcolor": "white",
            "gridwidth": 2,
            "linecolor": "white",
            "showbackground": true,
            "ticks": "",
            "zerolinecolor": "white"
           }
          },
          "shapedefaults": {
           "line": {
            "color": "#2a3f5f"
           }
          },
          "ternary": {
           "aaxis": {
            "gridcolor": "white",
            "linecolor": "white",
            "ticks": ""
           },
           "baxis": {
            "gridcolor": "white",
            "linecolor": "white",
            "ticks": ""
           },
           "bgcolor": "#E5ECF6",
           "caxis": {
            "gridcolor": "white",
            "linecolor": "white",
            "ticks": ""
           }
          },
          "title": {
           "x": 0.05
          },
          "xaxis": {
           "automargin": true,
           "gridcolor": "white",
           "linecolor": "white",
           "ticks": "",
           "title": {
            "standoff": 15
           },
           "zerolinecolor": "white",
           "zerolinewidth": 2
          },
          "yaxis": {
           "automargin": true,
           "gridcolor": "white",
           "linecolor": "white",
           "ticks": "",
           "title": {
            "standoff": 15
           },
           "zerolinecolor": "white",
           "zerolinewidth": 2
          }
         }
        },
        "xaxis": {
         "anchor": "y",
         "domain": [
          0,
          1
         ],
         "title": {
          "text": "PC1"
         }
        },
        "yaxis": {
         "anchor": "x",
         "domain": [
          0,
          1
         ],
         "title": {
          "text": "PC2"
         }
        }
       }
      },
      "text/html": [
       "<div>                            <div id=\"6f25490c-aacd-4f4c-be30-bd5c8fd22de5\" class=\"plotly-graph-div\" style=\"height:525px; width:100%;\"></div>            <script type=\"text/javascript\">                require([\"plotly\"], function(Plotly) {                    window.PLOTLYENV=window.PLOTLYENV || {};                                    if (document.getElementById(\"6f25490c-aacd-4f4c-be30-bd5c8fd22de5\")) {                    Plotly.newPlot(                        \"6f25490c-aacd-4f4c-be30-bd5c8fd22de5\",                        [{\"hovertemplate\":\"color=setosa<br>symbol=0<br>PC1=%{x}<br>PC2=%{y}<extra></extra>\",\"legendgroup\":\"setosa, 0\",\"marker\":{\"color\":\"#636efa\",\"symbol\":\"circle\",\"line\":{\"width\":1},\"size\":8},\"mode\":\"markers\",\"name\":\"setosa, 0\",\"orientation\":\"v\",\"showlegend\":true,\"x\":[-0.6840564924778108,-0.6285570808938867,-0.7141185270441075,-0.6945320579159067,-0.7218550016834068,-0.6269470857571782,-0.7382221569976145,-0.6744344510886334,-0.7051812583546317,-0.6597792275236746,-0.65433684426136,-0.7026109189050553,-0.6700860416125499,-0.7953315637182449,-0.6641325206511632,-0.6833049050414275,-0.6668047967132801,-0.6615979795368697,-0.5734661939370724,-0.707817736081466,-0.5782238044996872,-0.6666311617126528,-0.8379945037504037,-0.5493315475821668,-0.6727176356879788,-0.5895577776381122,-0.6195529974677293,-0.6550216169610598,-0.6462579832722113,-0.6842252438270312,-0.6464267346214336,-0.5532356340958596,-0.7898484984692425,-0.7388711313620314,-0.6373207145827354,-0.6668716114499619,-0.6177391291059395,-0.7633839624020695,-0.7338737475215311,-0.6553640033109095,-0.6906328550536189,-0.5612483568077506,-0.771329870377279,-0.5933640330137245,-0.6455015121844248,-0.6251690157306714,-0.7203118212833798,-0.723224547082806,-0.6734072920390839,-0.6656708173997851],\"xaxis\":\"x\",\"y\":[0.1449926712834779,-0.20362293648403712,-0.10327377290255357,-0.18044380479247474,0.19537748684626383,0.44980804956753867,0.014390993198294065,0.06740217184946957,-0.3368862062927551,-0.1416661693930422,0.31524814849141414,0.040196487978246376,-0.22009760391522637,-0.29042438508576635,0.5618327225010952,0.8113957979545343,0.448126179391188,0.14765426300701204,0.42438779369653024,0.3406684043624224,0.12349540976826659,0.27913210481551554,0.13844331383929148,0.02584306654546076,0.04145789061050937,-0.18896892568820636,0.07314582284062485,0.15922621453522132,0.09460785572069275,-0.1020123702702906,-0.15239718583307624,0.12797765812715886,0.541751970434333,0.6496302130071865,-0.13900457766950838,-0.062255013323675085,0.19982450657001222,0.17890281941507474,-0.27310878256640175,0.08121524755712496,0.13342071975526895,-0.7060193540282991,-0.14471300002551984,0.14266689755813333,0.3450118662623069,-0.21477442046815873,0.3384272801829763,-0.1166663810661214,0.30143507278375875,0.0027838130349409624],\"yaxis\":\"y\",\"type\":\"scatter\"},{\"hovertemplate\":\"color=versicolor<br>symbol=1<br>PC1=%{x}<br>PC2=%{y}<extra></extra>\",\"legendgroup\":\"versicolor, 1\",\"marker\":{\"color\":\"#EF553B\",\"symbol\":\"diamond\",\"line\":{\"width\":1},\"size\":8},\"mode\":\"markers\",\"name\":\"versicolor, 1\",\"orientation\":\"v\",\"showlegend\":true,\"x\":[0.33279447026167613,0.22090144105822204,0.37483945233081656,0.12308079933256767,0.3248485622864668,0.117403526443773,0.22549030027161468,-0.14719648175764488,0.28027392275443813,0.0034512954898145076,-0.03328493279037467,0.13311204180827482,0.1697855608262423,0.21734462454578415,-0.010074832413054086,0.2644179051393023,0.10579398169217992,0.04796878587045067,0.3700411597815136,0.04981367063363947,0.2228180242094977,0.14386317885954045,0.37278513423171766,0.1911556600917795,0.21223974398191428,0.2640755187894525,0.37953024815674974,0.2008038342309488,-0.012160166913551913,0.039506856544764206,0.007083915864799446,0.07295695627427828,0.32050503646178874,0.06765308613673258,0.1296220400325186,0.3167697012973181,0.31550209251045946,0.021019244854199363,0.08562467647681977,0.0842958130641085,0.1886521353788847,0.10164944544117775,-0.1093979725520473,0.0871678568768466,0.027595607430009415,0.06878218179882264,0.17409884842646672,-0.13521841790620856,0.07754581548767106],\"xaxis\":\"x\",\"y\":[0.260661965554907,0.17960416794433312,0.1861535253885198,-0.5299200560260401,-0.06295385388568775,-0.17920211053808624,0.23349151031882748,-0.5595286669807465,0.009733929645340976,-0.3123265938877961,-0.8016662212666794,-0.019118395767088847,-0.5330373439288052,-0.0562493896253146,-0.1326015028720897,0.15376344452923685,-0.059296220257792166,-0.23925357144782364,-0.49000089617538684,-0.39345484876865805,0.11978496720892053,-0.12605214542790302,-0.28191227648005834,-0.12577046434282318,-0.019153624402232738,0.07575247755114042,-0.023335283398080033,-0.06824180869761146,-0.3197873436904459,-0.4718862832908421,-0.4749683425584636,-0.23477132308893134,-0.1914531942504333,-0.08692237167310288,0.255409239378127,0.15768643888503367,-0.41773358018844614,-0.06630127388121043,-0.4015242734851581,-0.3383061037619002,0.007528034101038717,-0.29854874681528476,-0.6099134825435322,-0.25847448014844543,-0.0547293223530011,-0.11626562189990822,-0.04677977581754357,-0.466304435203724,-0.18088398071443693],\"yaxis\":\"y\",\"type\":\"scatter\"},{\"hovertemplate\":\"color=versicolor<br>symbol=2<br>PC1=%{x}<br>PC2=%{y}<extra></extra>\",\"legendgroup\":\"versicolor, 2\",\"marker\":{\"color\":\"#EF553B\",\"symbol\":\"square\",\"line\":{\"width\":1},\"size\":8},\"mode\":\"markers\",\"name\":\"versicolor, 2\",\"orientation\":\"v\",\"showlegend\":true,\"x\":[0.410308071824147],\"xaxis\":\"x\",\"y\":[0.1000731336939233],\"yaxis\":\"y\",\"type\":\"scatter\"},{\"hovertemplate\":\"color=virginica<br>symbol=1<br>PC1=%{x}<br>PC2=%{y}<extra></extra>\",\"legendgroup\":\"virginica, 1\",\"marker\":{\"color\":\"#00cc96\",\"symbol\":\"diamond\",\"line\":{\"width\":1},\"size\":8},\"mode\":\"markers\",\"name\":\"virginica, 1\",\"orientation\":\"v\",\"showlegend\":true,\"x\":[0.34973967972915904,0.110858180269362,0.38061944000909714,0.4433041830059817,0.3817224029211936,0.29540038020872605,0.4027045501987876,0.3549416132541645,0.30837947035971847,0.3365298054261468,0.36320865848063505,0.27934459484296925,0.34973967972915904,0.4725836137345002,0.29016743028232195],\"xaxis\":\"x\",\"y\":[-0.2110945704951427,-0.471654023116517,-0.351062304564234,-0.133588720607033,-0.5155247098702594,-0.1727021740046544,-0.14553171876857485,-0.0955673707498772,0.019435803627436948,-0.08847766758056026,-0.24505885553984824,0.005202260375693929,-0.2110945704951427,-0.2708454420418354,-0.0073494126996984325],\"yaxis\":\"y\",\"type\":\"scatter\"},{\"hovertemplate\":\"color=virginica<br>symbol=2<br>PC1=%{x}<br>PC2=%{y}<extra></extra>\",\"legendgroup\":\"virginica, 2\",\"marker\":{\"color\":\"#00cc96\",\"symbol\":\"square\",\"line\":{\"width\":1},\"size\":8},\"mode\":\"markers\",\"name\":\"virginica, 2\",\"orientation\":\"v\",\"showlegend\":true,\"x\":[0.5571544773473995,0.6661037643500284,0.4349994215162182,0.5641751628855999,0.8312069974118255,0.6954548934666339,0.6061223138166597,0.6825687508023167,0.412051019974795,0.4840912218735526,0.5690347100607552,0.48028496649794017,0.44444782790476633,0.7328758944465227,1.0,0.6154949163426608,0.8752394828433833,0.5137089334774609,0.590306978188212,0.5401734695446337,0.5629172196840304,0.7357830601351198,0.6962064809030152,0.562631982485573,0.8453723323763004,0.4761101920224843,0.40664931869916865,0.5594126686715797,0.608576167417001,0.5744364113363817,0.6163533240429879,0.6035429852412181,0.5649880049478336,0.45947157056956833,0.4146523758257704],\"xaxis\":\"x\",\"y\":[0.2629119139037714,0.1697560113154691,-0.014192663419079533,0.08911868124898285,0.24176466266235982,0.12688136646608816,-0.2148909905820462,0.5802437366280807,0.2092480075341835,-0.12737518116103488,0.12663491401615223,0.2042606420853049,0.07721091172258462,0.7722429278011641,0.005370759367582224,0.27500789079993254,0.12494083164968718,0.30625644720799494,0.3044005619374927,-0.056592703811263606,0.16984066086136787,0.07831720753866113,0.7932844931371441,-0.05393111208772979,0.2587985840966445,0.3227663432743278,0.12759572728537022,0.204225413450161,0.18542497229362687,0.2082871942649656,0.26203575018045244,0.31690281410213017,0.11688361912330147,0.08127269253738922,0.30545074075496337],\"yaxis\":\"y\",\"type\":\"scatter\"}],                        {\"template\":{\"data\":{\"histogram2dcontour\":[{\"type\":\"histogram2dcontour\",\"colorbar\":{\"outlinewidth\":0,\"ticks\":\"\"},\"colorscale\":[[0.0,\"#0d0887\"],[0.1111111111111111,\"#46039f\"],[0.2222222222222222,\"#7201a8\"],[0.3333333333333333,\"#9c179e\"],[0.4444444444444444,\"#bd3786\"],[0.5555555555555556,\"#d8576b\"],[0.6666666666666666,\"#ed7953\"],[0.7777777777777778,\"#fb9f3a\"],[0.8888888888888888,\"#fdca26\"],[1.0,\"#f0f921\"]]}],\"choropleth\":[{\"type\":\"choropleth\",\"colorbar\":{\"outlinewidth\":0,\"ticks\":\"\"}}],\"histogram2d\":[{\"type\":\"histogram2d\",\"colorbar\":{\"outlinewidth\":0,\"ticks\":\"\"},\"colorscale\":[[0.0,\"#0d0887\"],[0.1111111111111111,\"#46039f\"],[0.2222222222222222,\"#7201a8\"],[0.3333333333333333,\"#9c179e\"],[0.4444444444444444,\"#bd3786\"],[0.5555555555555556,\"#d8576b\"],[0.6666666666666666,\"#ed7953\"],[0.7777777777777778,\"#fb9f3a\"],[0.8888888888888888,\"#fdca26\"],[1.0,\"#f0f921\"]]}],\"heatmap\":[{\"type\":\"heatmap\",\"colorbar\":{\"outlinewidth\":0,\"ticks\":\"\"},\"colorscale\":[[0.0,\"#0d0887\"],[0.1111111111111111,\"#46039f\"],[0.2222222222222222,\"#7201a8\"],[0.3333333333333333,\"#9c179e\"],[0.4444444444444444,\"#bd3786\"],[0.5555555555555556,\"#d8576b\"],[0.6666666666666666,\"#ed7953\"],[0.7777777777777778,\"#fb9f3a\"],[0.8888888888888888,\"#fdca26\"],[1.0,\"#f0f921\"]]}],\"heatmapgl\":[{\"type\":\"heatmapgl\",\"colorbar\":{\"outlinewidth\":0,\"ticks\":\"\"},\"colorscale\":[[0.0,\"#0d0887\"],[0.1111111111111111,\"#46039f\"],[0.2222222222222222,\"#7201a8\"],[0.3333333333333333,\"#9c179e\"],[0.4444444444444444,\"#bd3786\"],[0.5555555555555556,\"#d8576b\"],[0.6666666666666666,\"#ed7953\"],[0.7777777777777778,\"#fb9f3a\"],[0.8888888888888888,\"#fdca26\"],[1.0,\"#f0f921\"]]}],\"contourcarpet\":[{\"type\":\"contourcarpet\",\"colorbar\":{\"outlinewidth\":0,\"ticks\":\"\"}}],\"contour\":[{\"type\":\"contour\",\"colorbar\":{\"outlinewidth\":0,\"ticks\":\"\"},\"colorscale\":[[0.0,\"#0d0887\"],[0.1111111111111111,\"#46039f\"],[0.2222222222222222,\"#7201a8\"],[0.3333333333333333,\"#9c179e\"],[0.4444444444444444,\"#bd3786\"],[0.5555555555555556,\"#d8576b\"],[0.6666666666666666,\"#ed7953\"],[0.7777777777777778,\"#fb9f3a\"],[0.8888888888888888,\"#fdca26\"],[1.0,\"#f0f921\"]]}],\"surface\":[{\"type\":\"surface\",\"colorbar\":{\"outlinewidth\":0,\"ticks\":\"\"},\"colorscale\":[[0.0,\"#0d0887\"],[0.1111111111111111,\"#46039f\"],[0.2222222222222222,\"#7201a8\"],[0.3333333333333333,\"#9c179e\"],[0.4444444444444444,\"#bd3786\"],[0.5555555555555556,\"#d8576b\"],[0.6666666666666666,\"#ed7953\"],[0.7777777777777778,\"#fb9f3a\"],[0.8888888888888888,\"#fdca26\"],[1.0,\"#f0f921\"]]}],\"mesh3d\":[{\"type\":\"mesh3d\",\"colorbar\":{\"outlinewidth\":0,\"ticks\":\"\"}}],\"scatter\":[{\"fillpattern\":{\"fillmode\":\"overlay\",\"size\":10,\"solidity\":0.2},\"type\":\"scatter\"}],\"parcoords\":[{\"type\":\"parcoords\",\"line\":{\"colorbar\":{\"outlinewidth\":0,\"ticks\":\"\"}}}],\"scatterpolargl\":[{\"type\":\"scatterpolargl\",\"marker\":{\"colorbar\":{\"outlinewidth\":0,\"ticks\":\"\"}}}],\"bar\":[{\"error_x\":{\"color\":\"#2a3f5f\"},\"error_y\":{\"color\":\"#2a3f5f\"},\"marker\":{\"line\":{\"color\":\"#E5ECF6\",\"width\":0.5},\"pattern\":{\"fillmode\":\"overlay\",\"size\":10,\"solidity\":0.2}},\"type\":\"bar\"}],\"scattergeo\":[{\"type\":\"scattergeo\",\"marker\":{\"colorbar\":{\"outlinewidth\":0,\"ticks\":\"\"}}}],\"scatterpolar\":[{\"type\":\"scatterpolar\",\"marker\":{\"colorbar\":{\"outlinewidth\":0,\"ticks\":\"\"}}}],\"histogram\":[{\"marker\":{\"pattern\":{\"fillmode\":\"overlay\",\"size\":10,\"solidity\":0.2}},\"type\":\"histogram\"}],\"scattergl\":[{\"type\":\"scattergl\",\"marker\":{\"colorbar\":{\"outlinewidth\":0,\"ticks\":\"\"}}}],\"scatter3d\":[{\"type\":\"scatter3d\",\"line\":{\"colorbar\":{\"outlinewidth\":0,\"ticks\":\"\"}},\"marker\":{\"colorbar\":{\"outlinewidth\":0,\"ticks\":\"\"}}}],\"scattermapbox\":[{\"type\":\"scattermapbox\",\"marker\":{\"colorbar\":{\"outlinewidth\":0,\"ticks\":\"\"}}}],\"scatterternary\":[{\"type\":\"scatterternary\",\"marker\":{\"colorbar\":{\"outlinewidth\":0,\"ticks\":\"\"}}}],\"scattercarpet\":[{\"type\":\"scattercarpet\",\"marker\":{\"colorbar\":{\"outlinewidth\":0,\"ticks\":\"\"}}}],\"carpet\":[{\"aaxis\":{\"endlinecolor\":\"#2a3f5f\",\"gridcolor\":\"white\",\"linecolor\":\"white\",\"minorgridcolor\":\"white\",\"startlinecolor\":\"#2a3f5f\"},\"baxis\":{\"endlinecolor\":\"#2a3f5f\",\"gridcolor\":\"white\",\"linecolor\":\"white\",\"minorgridcolor\":\"white\",\"startlinecolor\":\"#2a3f5f\"},\"type\":\"carpet\"}],\"table\":[{\"cells\":{\"fill\":{\"color\":\"#EBF0F8\"},\"line\":{\"color\":\"white\"}},\"header\":{\"fill\":{\"color\":\"#C8D4E3\"},\"line\":{\"color\":\"white\"}},\"type\":\"table\"}],\"barpolar\":[{\"marker\":{\"line\":{\"color\":\"#E5ECF6\",\"width\":0.5},\"pattern\":{\"fillmode\":\"overlay\",\"size\":10,\"solidity\":0.2}},\"type\":\"barpolar\"}],\"pie\":[{\"automargin\":true,\"type\":\"pie\"}]},\"layout\":{\"autotypenumbers\":\"strict\",\"colorway\":[\"#636efa\",\"#EF553B\",\"#00cc96\",\"#ab63fa\",\"#FFA15A\",\"#19d3f3\",\"#FF6692\",\"#B6E880\",\"#FF97FF\",\"#FECB52\"],\"font\":{\"color\":\"#2a3f5f\"},\"hovermode\":\"closest\",\"hoverlabel\":{\"align\":\"left\"},\"paper_bgcolor\":\"white\",\"plot_bgcolor\":\"#E5ECF6\",\"polar\":{\"bgcolor\":\"#E5ECF6\",\"angularaxis\":{\"gridcolor\":\"white\",\"linecolor\":\"white\",\"ticks\":\"\"},\"radialaxis\":{\"gridcolor\":\"white\",\"linecolor\":\"white\",\"ticks\":\"\"}},\"ternary\":{\"bgcolor\":\"#E5ECF6\",\"aaxis\":{\"gridcolor\":\"white\",\"linecolor\":\"white\",\"ticks\":\"\"},\"baxis\":{\"gridcolor\":\"white\",\"linecolor\":\"white\",\"ticks\":\"\"},\"caxis\":{\"gridcolor\":\"white\",\"linecolor\":\"white\",\"ticks\":\"\"}},\"coloraxis\":{\"colorbar\":{\"outlinewidth\":0,\"ticks\":\"\"}},\"colorscale\":{\"sequential\":[[0.0,\"#0d0887\"],[0.1111111111111111,\"#46039f\"],[0.2222222222222222,\"#7201a8\"],[0.3333333333333333,\"#9c179e\"],[0.4444444444444444,\"#bd3786\"],[0.5555555555555556,\"#d8576b\"],[0.6666666666666666,\"#ed7953\"],[0.7777777777777778,\"#fb9f3a\"],[0.8888888888888888,\"#fdca26\"],[1.0,\"#f0f921\"]],\"sequentialminus\":[[0.0,\"#0d0887\"],[0.1111111111111111,\"#46039f\"],[0.2222222222222222,\"#7201a8\"],[0.3333333333333333,\"#9c179e\"],[0.4444444444444444,\"#bd3786\"],[0.5555555555555556,\"#d8576b\"],[0.6666666666666666,\"#ed7953\"],[0.7777777777777778,\"#fb9f3a\"],[0.8888888888888888,\"#fdca26\"],[1.0,\"#f0f921\"]],\"diverging\":[[0,\"#8e0152\"],[0.1,\"#c51b7d\"],[0.2,\"#de77ae\"],[0.3,\"#f1b6da\"],[0.4,\"#fde0ef\"],[0.5,\"#f7f7f7\"],[0.6,\"#e6f5d0\"],[0.7,\"#b8e186\"],[0.8,\"#7fbc41\"],[0.9,\"#4d9221\"],[1,\"#276419\"]]},\"xaxis\":{\"gridcolor\":\"white\",\"linecolor\":\"white\",\"ticks\":\"\",\"title\":{\"standoff\":15},\"zerolinecolor\":\"white\",\"automargin\":true,\"zerolinewidth\":2},\"yaxis\":{\"gridcolor\":\"white\",\"linecolor\":\"white\",\"ticks\":\"\",\"title\":{\"standoff\":15},\"zerolinecolor\":\"white\",\"automargin\":true,\"zerolinewidth\":2},\"scene\":{\"xaxis\":{\"backgroundcolor\":\"#E5ECF6\",\"gridcolor\":\"white\",\"linecolor\":\"white\",\"showbackground\":true,\"ticks\":\"\",\"zerolinecolor\":\"white\",\"gridwidth\":2},\"yaxis\":{\"backgroundcolor\":\"#E5ECF6\",\"gridcolor\":\"white\",\"linecolor\":\"white\",\"showbackground\":true,\"ticks\":\"\",\"zerolinecolor\":\"white\",\"gridwidth\":2},\"zaxis\":{\"backgroundcolor\":\"#E5ECF6\",\"gridcolor\":\"white\",\"linecolor\":\"white\",\"showbackground\":true,\"ticks\":\"\",\"zerolinecolor\":\"white\",\"gridwidth\":2}},\"shapedefaults\":{\"line\":{\"color\":\"#2a3f5f\"}},\"annotationdefaults\":{\"arrowcolor\":\"#2a3f5f\",\"arrowhead\":0,\"arrowwidth\":1},\"geo\":{\"bgcolor\":\"white\",\"landcolor\":\"#E5ECF6\",\"subunitcolor\":\"white\",\"showland\":true,\"showlakes\":true,\"lakecolor\":\"white\"},\"title\":{\"x\":0.05},\"mapbox\":{\"style\":\"light\"}}},\"xaxis\":{\"anchor\":\"y\",\"domain\":[0.0,1.0],\"title\":{\"text\":\"PC1\"}},\"yaxis\":{\"anchor\":\"x\",\"domain\":[0.0,1.0],\"title\":{\"text\":\"PC2\"}},\"legend\":{\"title\":{\"text\":\"color, symbol\"},\"tracegroupgap\":0},\"margin\":{\"t\":60}},                        {\"responsive\": true}                    ).then(function(){\n",
       "                            \n",
       "var gd = document.getElementById('6f25490c-aacd-4f4c-be30-bd5c8fd22de5');\n",
       "var x = new MutationObserver(function (mutations, observer) {{\n",
       "        var display = window.getComputedStyle(gd).display;\n",
       "        if (!display || display === 'none') {{\n",
       "            console.log([gd, 'removed!']);\n",
       "            Plotly.purge(gd);\n",
       "            observer.disconnect();\n",
       "        }}\n",
       "}});\n",
       "\n",
       "// Listen for the removal of the full notebook cells\n",
       "var notebookContainer = gd.closest('#notebook-container');\n",
       "if (notebookContainer) {{\n",
       "    x.observe(notebookContainer, {childList: true});\n",
       "}}\n",
       "\n",
       "// Listen for the clearing of the current output cell\n",
       "var outputEl = gd.closest('.output');\n",
       "if (outputEl) {{\n",
       "    x.observe(outputEl, {childList: true});\n",
       "}}\n",
       "\n",
       "                        })                };                });            </script>        </div>"
      ]
     },
     "metadata": {},
     "output_type": "display_data"
    }
   ],
   "source": [
    "fig = px.scatter(scores, x='PC1', y='PC2', color=labels, symbol=clusterlabels)\n",
    "fig.update_traces(mode='markers', marker_line_width=1, marker_size=8)\n",
    "fig.show()"
   ]
  },
  {
   "cell_type": "code",
   "execution_count": 37,
   "metadata": {},
   "outputs": [
    {
     "name": "stdout",
     "output_type": "stream",
     "text": [
      "Labels    setosa  versicolor  virginica\n",
      "Clusters                               \n",
      "0             50           0          0\n",
      "1              0          49         15\n",
      "2              0           1         35\n"
     ]
    }
   ],
   "source": [
    "# Let's look at which cell-types are in which cluster\n",
    "df = pd.DataFrame({'Labels': labels, 'Clusters': clusterlabels})\n",
    "ct = pd.crosstab(df['Clusters'], df['Labels'])\n",
    "print(ct)"
   ]
  },
  {
   "cell_type": "code",
   "execution_count": 38,
   "metadata": {},
   "outputs": [
    {
     "name": "stdout",
     "output_type": "stream",
     "text": [
      "0.7311985567707745\n"
     ]
    }
   ],
   "source": [
    "HierarchicalARI = adjusted_rand_score(clusterlabels, labels)\n",
    "print(HierarchicalARI)"
   ]
  },
  {
   "cell_type": "code",
   "execution_count": null,
   "metadata": {},
   "outputs": [],
   "source": []
  },
  {
   "cell_type": "code",
   "execution_count": null,
   "metadata": {},
   "outputs": [],
   "source": []
  }
 ],
 "metadata": {
  "anaconda-cloud": {},
  "kernelspec": {
   "display_name": "Python 3 (ipykernel)",
   "language": "python",
   "name": "python3"
  },
  "language_info": {
   "codemirror_mode": {
    "name": "ipython",
    "version": 3
   },
   "file_extension": ".py",
   "mimetype": "text/x-python",
   "name": "python",
   "nbconvert_exporter": "python",
   "pygments_lexer": "ipython3",
   "version": "3.9.13"
  },
  "widgets": {
   "state": {
    "0d53357b98374fd5aa5d7bb04e6818df": {
     "views": [
      {
       "cell_index": 13
      }
     ]
    },
    "5df1aaefcdb14f689ce4aae2e63ef8ce": {
     "views": [
      {
       "cell_index": 20
      }
     ]
    }
   },
   "version": "1.2.0"
  }
 },
 "nbformat": 4,
 "nbformat_minor": 4
}
